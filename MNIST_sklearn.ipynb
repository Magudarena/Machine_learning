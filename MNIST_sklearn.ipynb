{
  "nbformat": 4,
  "nbformat_minor": 0,
  "metadata": {
    "colab": {
      "provenance": [],
      "gpuType": "T4",
      "authorship_tag": "ABX9TyM+9d5wP/uXSFSikUfs++7P",
      "include_colab_link": true
    },
    "kernelspec": {
      "name": "python3",
      "display_name": "Python 3"
    },
    "language_info": {
      "name": "python"
    },
    "accelerator": "GPU"
  },
  "cells": [
    {
      "cell_type": "markdown",
      "metadata": {
        "id": "view-in-github",
        "colab_type": "text"
      },
      "source": [
        "<a href=\"https://colab.research.google.com/github/Magudarena/Machine_learning/blob/main/MNIST_sklearn.ipynb\" target=\"_parent\"><img src=\"https://colab.research.google.com/assets/colab-badge.svg\" alt=\"Open In Colab\"/></a>"
      ]
    },
    {
      "cell_type": "code",
      "execution_count": null,
      "metadata": {
        "id": "sROErC6R6u94"
      },
      "outputs": [],
      "source": [
        "#MNIST zbiór ręcznie pisanych cyfr\n",
        "from keras.datasets import mnist"
      ]
    },
    {
      "cell_type": "code",
      "source": [
        "(trainX, trainY), (testX, testY) = mnist.load_data()"
      ],
      "metadata": {
        "colab": {
          "base_uri": "https://localhost:8080/"
        },
        "id": "zb4ZyXvL8boK",
        "outputId": "08a0595f-5525-470d-f594-3f12b5979091"
      },
      "execution_count": null,
      "outputs": [
        {
          "output_type": "stream",
          "name": "stdout",
          "text": [
            "Downloading data from https://storage.googleapis.com/tensorflow/tf-keras-datasets/mnist.npz\n",
            "\u001b[1m11490434/11490434\u001b[0m \u001b[32m━━━━━━━━━━━━━━━━━━━━\u001b[0m\u001b[37m\u001b[0m \u001b[1m0s\u001b[0m 0us/step\n"
          ]
        }
      ]
    },
    {
      "cell_type": "code",
      "source": [
        "trainX.shape"
      ],
      "metadata": {
        "colab": {
          "base_uri": "https://localhost:8080/"
        },
        "id": "YKH31aMb8-B9",
        "outputId": "65223e02-fb1f-4aa4-f1de-3a1778840ab1"
      },
      "execution_count": null,
      "outputs": [
        {
          "output_type": "execute_result",
          "data": {
            "text/plain": [
              "(60000, 28, 28)"
            ]
          },
          "metadata": {},
          "execution_count": 10
        }
      ]
    },
    {
      "cell_type": "code",
      "source": [
        "trainY.shape"
      ],
      "metadata": {
        "colab": {
          "base_uri": "https://localhost:8080/"
        },
        "id": "BN-y9T259Es1",
        "outputId": "268d0bf8-9048-48c4-d21f-275fcb841a1a"
      },
      "execution_count": null,
      "outputs": [
        {
          "output_type": "execute_result",
          "data": {
            "text/plain": [
              "(60000,)"
            ]
          },
          "metadata": {},
          "execution_count": 11
        }
      ]
    },
    {
      "cell_type": "code",
      "source": [
        "testX.shape"
      ],
      "metadata": {
        "colab": {
          "base_uri": "https://localhost:8080/"
        },
        "id": "bT_p0GZI94oS",
        "outputId": "bc633204-c9bb-432a-f794-dca7a41956a6"
      },
      "execution_count": null,
      "outputs": [
        {
          "output_type": "execute_result",
          "data": {
            "text/plain": [
              "(10000, 28, 28)"
            ]
          },
          "metadata": {},
          "execution_count": 12
        }
      ]
    },
    {
      "cell_type": "code",
      "source": [
        "testY.shape"
      ],
      "metadata": {
        "colab": {
          "base_uri": "https://localhost:8080/"
        },
        "id": "0dd6OX0X9bVF",
        "outputId": "dac8c873-abbb-4d8b-ce75-1c1cb17e7d26"
      },
      "execution_count": null,
      "outputs": [
        {
          "output_type": "execute_result",
          "data": {
            "text/plain": [
              "(10000,)"
            ]
          },
          "metadata": {},
          "execution_count": 6
        }
      ]
    },
    {
      "cell_type": "code",
      "source": [
        "print(trainX[10])"
      ],
      "metadata": {
        "colab": {
          "base_uri": "https://localhost:8080/"
        },
        "id": "0x3646889967",
        "outputId": "596f7170-70fc-4612-9e99-33e955fff18a"
      },
      "execution_count": null,
      "outputs": [
        {
          "output_type": "stream",
          "name": "stdout",
          "text": [
            "[[  0   0   0   0   0   0   0   0   0   0   0   0   0   0   0   0   0   0\n",
            "    0   0   0   0   0   0   0   0   0   0]\n",
            " [  0   0   0   0   0   0   0   0   0   0   0   0   0   0   0   0   0   0\n",
            "    0   0   0   0   0   0   0   0   0   0]\n",
            " [  0   0   0   0   0   0   0   0   0   0   0   0   0   0   0   0   0   0\n",
            "    0   0   0   0   0   0   0   0   0   0]\n",
            " [  0   0   0   0   0   0   0   0   0   0   0   0   0   0   0   0   0   0\n",
            "    0   0   0   0   0   0   0   0   0   0]\n",
            " [  0   0   0   0   0   0   0   0   0   0   0  42 118 219 166 118 118   6\n",
            "    0   0   0   0   0   0   0   0   0   0]\n",
            " [  0   0   0   0   0   0   0   0   0   0 103 242 254 254 254 254 254  66\n",
            "    0   0   0   0   0   0   0   0   0   0]\n",
            " [  0   0   0   0   0   0   0   0   0   0  18 232 254 254 254 254 254 238\n",
            "   70   0   0   0   0   0   0   0   0   0]\n",
            " [  0   0   0   0   0   0   0   0   0   0   0 104 244 254 224 254 254 254\n",
            "  141   0   0   0   0   0   0   0   0   0]\n",
            " [  0   0   0   0   0   0   0   0   0   0   0   0 207 254 210 254 254 254\n",
            "   34   0   0   0   0   0   0   0   0   0]\n",
            " [  0   0   0   0   0   0   0   0   0   0   0   0  84 206 254 254 254 254\n",
            "   41   0   0   0   0   0   0   0   0   0]\n",
            " [  0   0   0   0   0   0   0   0   0   0   0   0   0  24 209 254 254 254\n",
            "  171   0   0   0   0   0   0   0   0   0]\n",
            " [  0   0   0   0   0   0   0   0   0   0   0   0  91 137 253 254 254 254\n",
            "  112   0   0   0   0   0   0   0   0   0]\n",
            " [  0   0   0   0   0   0   0   0   0   0  40 214 250 254 254 254 254 254\n",
            "   34   0   0   0   0   0   0   0   0   0]\n",
            " [  0   0   0   0   0   0   0   0   0   0  81 247 254 254 254 254 254 254\n",
            "  146   0   0   0   0   0   0   0   0   0]\n",
            " [  0   0   0   0   0   0   0   0   0   0   0 110 246 254 254 254 254 254\n",
            "  171   0   0   0   0   0   0   0   0   0]\n",
            " [  0   0   0   0   0   0   0   0   0   0   0   0  73  89  89  93 240 254\n",
            "  171   0   0   0   0   0   0   0   0   0]\n",
            " [  0   0   0   0   0   0   0   0   0   0   0   0   0   0   0   1 128 254\n",
            "  219  31   0   0   0   0   0   0   0   0]\n",
            " [  0   0   0   0   0   0   0   0   0   0   0   0   0   0   0   7 254 254\n",
            "  214  28   0   0   0   0   0   0   0   0]\n",
            " [  0   0   0   0   0   0   0   0   0   0   0   0   0   0   0 138 254 254\n",
            "  116   0   0   0   0   0   0   0   0   0]\n",
            " [  0   0   0   0   0   0  19 177  90   0   0   0   0   0  25 240 254 254\n",
            "   34   0   0   0   0   0   0   0   0   0]\n",
            " [  0   0   0   0   0   0 164 254 215  63  36   0  51  89 206 254 254 139\n",
            "    8   0   0   0   0   0   0   0   0   0]\n",
            " [  0   0   0   0   0   0  57 197 254 254 222 180 241 254 254 253 213  11\n",
            "    0   0   0   0   0   0   0   0   0   0]\n",
            " [  0   0   0   0   0   0   0 140 105 254 254 254 254 254 254 236   0   0\n",
            "    0   0   0   0   0   0   0   0   0   0]\n",
            " [  0   0   0   0   0   0   0   0   7 117 117 165 254 254 239  50   0   0\n",
            "    0   0   0   0   0   0   0   0   0   0]\n",
            " [  0   0   0   0   0   0   0   0   0   0   0   0   0   0   0   0   0   0\n",
            "    0   0   0   0   0   0   0   0   0   0]\n",
            " [  0   0   0   0   0   0   0   0   0   0   0   0   0   0   0   0   0   0\n",
            "    0   0   0   0   0   0   0   0   0   0]\n",
            " [  0   0   0   0   0   0   0   0   0   0   0   0   0   0   0   0   0   0\n",
            "    0   0   0   0   0   0   0   0   0   0]\n",
            " [  0   0   0   0   0   0   0   0   0   0   0   0   0   0   0   0   0   0\n",
            "    0   0   0   0   0   0   0   0   0   0]]\n"
          ]
        }
      ]
    },
    {
      "cell_type": "code",
      "source": [
        "trainX[10]"
      ],
      "metadata": {
        "colab": {
          "base_uri": "https://localhost:8080/",
          "height": 69
        },
        "id": "ySipF_kf-IBB",
        "outputId": "1de77aad-c07b-4a90-a702-fd529a216a5a"
      },
      "execution_count": null,
      "outputs": [
        {
          "output_type": "execute_result",
          "data": {
            "text/plain": [
              "array([[  0,   0,   0,   0,   0,   0,   0,   0,   0,   0,   0,   0,   0,\n",
              "          0,   0,   0,   0,   0,   0,   0,   0,   0,   0,   0,   0,   0,\n",
              "          0,   0],\n",
              "       [  0,   0,   0,   0,   0,   0,   0,   0,   0,   0,   0,   0,   0,\n",
              "          0,   0,   0,   0,   0,   0,   0,   0,   0,   0,   0,   0,   0,\n",
              "          0,   0],\n",
              "       [  0,   0,   0,   0,   0,   0,   0,   0,   0,   0,   0,   0,   0,\n",
              "          0,   0,   0,   0,   0,   0,   0,   0,   0,   0,   0,   0,   0,\n",
              "          0,   0],\n",
              "       [  0,   0,   0,   0,   0,   0,   0,   0,   0,   0,   0,   0,   0,\n",
              "          0,   0,   0,   0,   0,   0,   0,   0,   0,   0,   0,   0,   0,\n",
              "          0,   0],\n",
              "       [  0,   0,   0,   0,   0,   0,   0,   0,   0,   0,   0,  42, 118,\n",
              "        219, 166, 118, 118,   6,   0,   0,   0,   0,   0,   0,   0,   0,\n",
              "          0,   0],\n",
              "       [  0,   0,   0,   0,   0,   0,   0,   0,   0,   0, 103, 242, 254,\n",
              "        254, 254, 254, 254,  66,   0,   0,   0,   0,   0,   0,   0,   0,\n",
              "          0,   0],\n",
              "       [  0,   0,   0,   0,   0,   0,   0,   0,   0,   0,  18, 232, 254,\n",
              "        254, 254, 254, 254, 238,  70,   0,   0,   0,   0,   0,   0,   0,\n",
              "          0,   0],\n",
              "       [  0,   0,   0,   0,   0,   0,   0,   0,   0,   0,   0, 104, 244,\n",
              "        254, 224, 254, 254, 254, 141,   0,   0,   0,   0,   0,   0,   0,\n",
              "          0,   0],\n",
              "       [  0,   0,   0,   0,   0,   0,   0,   0,   0,   0,   0,   0, 207,\n",
              "        254, 210, 254, 254, 254,  34,   0,   0,   0,   0,   0,   0,   0,\n",
              "          0,   0],\n",
              "       [  0,   0,   0,   0,   0,   0,   0,   0,   0,   0,   0,   0,  84,\n",
              "        206, 254, 254, 254, 254,  41,   0,   0,   0,   0,   0,   0,   0,\n",
              "          0,   0],\n",
              "       [  0,   0,   0,   0,   0,   0,   0,   0,   0,   0,   0,   0,   0,\n",
              "         24, 209, 254, 254, 254, 171,   0,   0,   0,   0,   0,   0,   0,\n",
              "          0,   0],\n",
              "       [  0,   0,   0,   0,   0,   0,   0,   0,   0,   0,   0,   0,  91,\n",
              "        137, 253, 254, 254, 254, 112,   0,   0,   0,   0,   0,   0,   0,\n",
              "          0,   0],\n",
              "       [  0,   0,   0,   0,   0,   0,   0,   0,   0,   0,  40, 214, 250,\n",
              "        254, 254, 254, 254, 254,  34,   0,   0,   0,   0,   0,   0,   0,\n",
              "          0,   0],\n",
              "       [  0,   0,   0,   0,   0,   0,   0,   0,   0,   0,  81, 247, 254,\n",
              "        254, 254, 254, 254, 254, 146,   0,   0,   0,   0,   0,   0,   0,\n",
              "          0,   0],\n",
              "       [  0,   0,   0,   0,   0,   0,   0,   0,   0,   0,   0, 110, 246,\n",
              "        254, 254, 254, 254, 254, 171,   0,   0,   0,   0,   0,   0,   0,\n",
              "          0,   0],\n",
              "       [  0,   0,   0,   0,   0,   0,   0,   0,   0,   0,   0,   0,  73,\n",
              "         89,  89,  93, 240, 254, 171,   0,   0,   0,   0,   0,   0,   0,\n",
              "          0,   0],\n",
              "       [  0,   0,   0,   0,   0,   0,   0,   0,   0,   0,   0,   0,   0,\n",
              "          0,   0,   1, 128, 254, 219,  31,   0,   0,   0,   0,   0,   0,\n",
              "          0,   0],\n",
              "       [  0,   0,   0,   0,   0,   0,   0,   0,   0,   0,   0,   0,   0,\n",
              "          0,   0,   7, 254, 254, 214,  28,   0,   0,   0,   0,   0,   0,\n",
              "          0,   0],\n",
              "       [  0,   0,   0,   0,   0,   0,   0,   0,   0,   0,   0,   0,   0,\n",
              "          0,   0, 138, 254, 254, 116,   0,   0,   0,   0,   0,   0,   0,\n",
              "          0,   0],\n",
              "       [  0,   0,   0,   0,   0,   0,  19, 177,  90,   0,   0,   0,   0,\n",
              "          0,  25, 240, 254, 254,  34,   0,   0,   0,   0,   0,   0,   0,\n",
              "          0,   0],\n",
              "       [  0,   0,   0,   0,   0,   0, 164, 254, 215,  63,  36,   0,  51,\n",
              "         89, 206, 254, 254, 139,   8,   0,   0,   0,   0,   0,   0,   0,\n",
              "          0,   0],\n",
              "       [  0,   0,   0,   0,   0,   0,  57, 197, 254, 254, 222, 180, 241,\n",
              "        254, 254, 253, 213,  11,   0,   0,   0,   0,   0,   0,   0,   0,\n",
              "          0,   0],\n",
              "       [  0,   0,   0,   0,   0,   0,   0, 140, 105, 254, 254, 254, 254,\n",
              "        254, 254, 236,   0,   0,   0,   0,   0,   0,   0,   0,   0,   0,\n",
              "          0,   0],\n",
              "       [  0,   0,   0,   0,   0,   0,   0,   0,   7, 117, 117, 165, 254,\n",
              "        254, 239,  50,   0,   0,   0,   0,   0,   0,   0,   0,   0,   0,\n",
              "          0,   0],\n",
              "       [  0,   0,   0,   0,   0,   0,   0,   0,   0,   0,   0,   0,   0,\n",
              "          0,   0,   0,   0,   0,   0,   0,   0,   0,   0,   0,   0,   0,\n",
              "          0,   0],\n",
              "       [  0,   0,   0,   0,   0,   0,   0,   0,   0,   0,   0,   0,   0,\n",
              "          0,   0,   0,   0,   0,   0,   0,   0,   0,   0,   0,   0,   0,\n",
              "          0,   0],\n",
              "       [  0,   0,   0,   0,   0,   0,   0,   0,   0,   0,   0,   0,   0,\n",
              "          0,   0,   0,   0,   0,   0,   0,   0,   0,   0,   0,   0,   0,\n",
              "          0,   0],\n",
              "       [  0,   0,   0,   0,   0,   0,   0,   0,   0,   0,   0,   0,   0,\n",
              "          0,   0,   0,   0,   0,   0,   0,   0,   0,   0,   0,   0,   0,\n",
              "          0,   0]], dtype=uint8)"
            ],
            "text/html": [
              "<style>\n",
              "      .ndarray_repr .ndarray_raw_data {\n",
              "        display: none;\n",
              "      }\n",
              "      .ndarray_repr.show_array .ndarray_raw_data {\n",
              "        display: block;\n",
              "      }\n",
              "      .ndarray_repr.show_array .ndarray_image_preview {\n",
              "        display: none;\n",
              "      }\n",
              "      </style>\n",
              "      <div id=\"id-754b8253-a384-4dc5-90e5-4159018eb1eb\" class=\"ndarray_repr\"><pre>ndarray (28, 28) <button style=\"padding: 0 2px;\">show data</button></pre><img src=\"data:image/png;base64,iVBORw0KGgoAAAANSUhEUgAAABwAAAAcCAAAAABXZoBIAAAA5klEQVR4nGNgoD9gRGJr+aSevsAw4Rc2demf/v379++fE1ZDhF78+/fv3793blhlM778e/Dv379e7A44/+/Sv3//lLBLhpz79+/fP00cbpe4+O/fv9VwLguyXLSeDgMDw1Fs2jSu/fr3D8VOJoSkpiLEmAKsNuZ9+/cPp52TbgswsEzmw+FYBgYGxoZ/t+VxSbL/+3dNBpdk179/JehiwhujGBgYGBgkP2AJviX/rturMBhHnvv3r5sDXdLy6L9/97Z8/Pfv71VuTLt6Mv/9+/fv3783yIIwf5aw8zAYRDJ8xB7TdAQABFdhZWAfWxoAAAAASUVORK5CYII=\" class=\"ndarray_image_preview\" /><pre class=\"ndarray_raw_data\">array([[  0,   0,   0,   0,   0,   0,   0,   0,   0,   0,   0,   0,   0,\n",
              "          0,   0,   0,   0,   0,   0,   0,   0,   0,   0,   0,   0,   0,\n",
              "          0,   0],\n",
              "       [  0,   0,   0,   0,   0,   0,   0,   0,   0,   0,   0,   0,   0,\n",
              "          0,   0,   0,   0,   0,   0,   0,   0,   0,   0,   0,   0,   0,\n",
              "          0,   0],\n",
              "       [  0,   0,   0,   0,   0,   0,   0,   0,   0,   0,   0,   0,   0,\n",
              "          0,   0,   0,   0,   0,   0,   0,   0,   0,   0,   0,   0,   0,\n",
              "          0,   0],\n",
              "       [  0,   0,   0,   0,   0,   0,   0,   0,   0,   0,   0,   0,   0,\n",
              "          0,   0,   0,   0,   0,   0,   0,   0,   0,   0,   0,   0,   0,\n",
              "          0,   0],\n",
              "       [  0,   0,   0,   0,   0,   0,   0,   0,   0,   0,   0,  42, 118,\n",
              "        219, 166, 118, 118,   6,   0,   0,   0,   0,   0,   0,   0,   0,\n",
              "          0,   0],\n",
              "       [  0,   0,   0,   0,   0,   0,   0,   0,   0,   0, 103, 242, 254,\n",
              "        254, 254, 254, 254,  66,   0,   0,   0,   0,   0,   0,   0,   0,\n",
              "          0,   0],\n",
              "       [  0,   0,   0,   0,   0,   0,   0,   0,   0,   0,  18, 232, 254,\n",
              "        254, 254, 254, 254, 238,  70,   0,   0,   0,   0,   0,   0,   0,\n",
              "          0,   0],\n",
              "       [  0,   0,   0,   0,   0,   0,   0,   0,   0,   0,   0, 104, 244,\n",
              "        254, 224, 254, 254, 254, 141,   0,   0,   0,   0,   0,   0,   0,\n",
              "          0,   0],\n",
              "       [  0,   0,   0,   0,   0,   0,   0,   0,   0,   0,   0,   0, 207,\n",
              "        254, 210, 254, 254, 254,  34,   0,   0,   0,   0,   0,   0,   0,\n",
              "          0,   0],\n",
              "       [  0,   0,   0,   0,   0,   0,   0,   0,   0,   0,   0,   0,  84,\n",
              "        206, 254, 254, 254, 254,  41,   0,   0,   0,   0,   0,   0,   0,\n",
              "          0,   0],\n",
              "       [  0,   0,   0,   0,   0,   0,   0,   0,   0,   0,   0,   0,   0,\n",
              "         24, 209, 254, 254, 254, 171,   0,   0,   0,   0,   0,   0,   0,\n",
              "          0,   0],\n",
              "       [  0,   0,   0,   0,   0,   0,   0,   0,   0,   0,   0,   0,  91,\n",
              "        137, 253, 254, 254, 254, 112,   0,   0,   0,   0,   0,   0,   0,\n",
              "          0,   0],\n",
              "       [  0,   0,   0,   0,   0,   0,   0,   0,   0,   0,  40, 214, 250,\n",
              "        254, 254, 254, 254, 254,  34,   0,   0,   0,   0,   0,   0,   0,\n",
              "          0,   0],\n",
              "       [  0,   0,   0,   0,   0,   0,   0,   0,   0,   0,  81, 247, 254,\n",
              "        254, 254, 254, 254, 254, 146,   0,   0,   0,   0,   0,   0,   0,\n",
              "          0,   0],\n",
              "       [  0,   0,   0,   0,   0,   0,   0,   0,   0,   0,   0, 110, 246,\n",
              "        254, 254, 254, 254, 254, 171,   0,   0,   0,   0,   0,   0,   0,\n",
              "          0,   0],\n",
              "       [  0,   0,   0,   0,   0,   0,   0,   0,   0,   0,   0,   0,  73,\n",
              "         89,  89,  93, 240, 254, 171,   0,   0,   0,   0,   0,   0,   0,\n",
              "          0,   0],\n",
              "       [  0,   0,   0,   0,   0,   0,   0,   0,   0,   0,   0,   0,   0,\n",
              "          0,   0,   1, 128, 254, 219,  31,   0,   0,   0,   0,   0,   0,\n",
              "          0,   0],\n",
              "       [  0,   0,   0,   0,   0,   0,   0,   0,   0,   0,   0,   0,   0,\n",
              "          0,   0,   7, 254, 254, 214,  28,   0,   0,   0,   0,   0,   0,\n",
              "          0,   0],\n",
              "       [  0,   0,   0,   0,   0,   0,   0,   0,   0,   0,   0,   0,   0,\n",
              "          0,   0, 138, 254, 254, 116,   0,   0,   0,   0,   0,   0,   0,\n",
              "          0,   0],\n",
              "       [  0,   0,   0,   0,   0,   0,  19, 177,  90,   0,   0,   0,   0,\n",
              "          0,  25, 240, 254, 254,  34,   0,   0,   0,   0,   0,   0,   0,\n",
              "          0,   0],\n",
              "       [  0,   0,   0,   0,   0,   0, 164, 254, 215,  63,  36,   0,  51,\n",
              "         89, 206, 254, 254, 139,   8,   0,   0,   0,   0,   0,   0,   0,\n",
              "          0,   0],\n",
              "       [  0,   0,   0,   0,   0,   0,  57, 197, 254, 254, 222, 180, 241,\n",
              "        254, 254, 253, 213,  11,   0,   0,   0,   0,   0,   0,   0,   0,\n",
              "          0,   0],\n",
              "       [  0,   0,   0,   0,   0,   0,   0, 140, 105, 254, 254, 254, 254,\n",
              "        254, 254, 236,   0,   0,   0,   0,   0,   0,   0,   0,   0,   0,\n",
              "          0,   0],\n",
              "       [  0,   0,   0,   0,   0,   0,   0,   0,   7, 117, 117, 165, 254,\n",
              "        254, 239,  50,   0,   0,   0,   0,   0,   0,   0,   0,   0,   0,\n",
              "          0,   0],\n",
              "       [  0,   0,   0,   0,   0,   0,   0,   0,   0,   0,   0,   0,   0,\n",
              "          0,   0,   0,   0,   0,   0,   0,   0,   0,   0,   0,   0,   0,\n",
              "          0,   0],\n",
              "       [  0,   0,   0,   0,   0,   0,   0,   0,   0,   0,   0,   0,   0,\n",
              "          0,   0,   0,   0,   0,   0,   0,   0,   0,   0,   0,   0,   0,\n",
              "          0,   0],\n",
              "       [  0,   0,   0,   0,   0,   0,   0,   0,   0,   0,   0,   0,   0,\n",
              "          0,   0,   0,   0,   0,   0,   0,   0,   0,   0,   0,   0,   0,\n",
              "          0,   0],\n",
              "       [  0,   0,   0,   0,   0,   0,   0,   0,   0,   0,   0,   0,   0,\n",
              "          0,   0,   0,   0,   0,   0,   0,   0,   0,   0,   0,   0,   0,\n",
              "          0,   0]], dtype=uint8)</pre></div><script>\n",
              "      (() => {\n",
              "      const titles = ['show data', 'hide data'];\n",
              "      let index = 0\n",
              "      document.querySelector('#id-754b8253-a384-4dc5-90e5-4159018eb1eb button').onclick = (e) => {\n",
              "        document.querySelector('#id-754b8253-a384-4dc5-90e5-4159018eb1eb').classList.toggle('show_array');\n",
              "        index = (++index) % 2;\n",
              "        document.querySelector('#id-754b8253-a384-4dc5-90e5-4159018eb1eb button').textContent = titles[index];\n",
              "        e.preventDefault();\n",
              "        e.stopPropagation();\n",
              "      }\n",
              "      })();\n",
              "    </script>"
            ]
          },
          "metadata": {},
          "execution_count": 8
        }
      ]
    },
    {
      "cell_type": "code",
      "source": [
        "print(trainY[10])"
      ],
      "metadata": {
        "colab": {
          "base_uri": "https://localhost:8080/"
        },
        "id": "W7COMbHh-aDS",
        "outputId": "2834f1e1-1598-4a30-eca1-b604cc27ab0d"
      },
      "execution_count": null,
      "outputs": [
        {
          "output_type": "stream",
          "name": "stdout",
          "text": [
            "3\n"
          ]
        }
      ]
    },
    {
      "cell_type": "code",
      "source": [
        "import matplotlib.pyplot as plt"
      ],
      "metadata": {
        "id": "5jwiGG9_-k2C"
      },
      "execution_count": null,
      "outputs": []
    },
    {
      "cell_type": "code",
      "source": [
        "image=300\n",
        "print(trainY[image])\n",
        "plt.imshow(trainX[image], cmap='gray')"
      ],
      "metadata": {
        "colab": {
          "base_uri": "https://localhost:8080/",
          "height": 465
        },
        "id": "GAI0Xxsy-tEb",
        "outputId": "fe9a952c-8fa7-4942-d459-dc5f2e86f463"
      },
      "execution_count": null,
      "outputs": [
        {
          "output_type": "stream",
          "name": "stdout",
          "text": [
            "8\n"
          ]
        },
        {
          "output_type": "execute_result",
          "data": {
            "text/plain": [
              "<matplotlib.image.AxesImage at 0x7e2fff3ada50>"
            ]
          },
          "metadata": {},
          "execution_count": 15
        },
        {
          "output_type": "display_data",
          "data": {
            "text/plain": [
              "<Figure size 640x480 with 1 Axes>"
            ],
            "image/png": "[encoded data removed]"
          },
          "metadata": {}
        }
      ]
    },
    {
      "cell_type": "code",
      "source": [
        "for i in range(8):\n",
        "    plt.subplot(2,4,i+1)\n",
        "    plt.imshow(trainX[i], cmap='gray')"
      ],
      "metadata": {
        "colab": {
          "base_uri": "https://localhost:8080/",
          "height": 373
        },
        "id": "fcTjEdRW_Au9",
        "outputId": "2c9cffad-e805-48ab-f065-1294ab3f576d"
      },
      "execution_count": null,
      "outputs": [
        {
          "output_type": "display_data",
          "data": {
            "text/plain": [
              "<Figure size 640x480 with 8 Axes>"
            ],
            "image/png": "[encoded data removed]"
          },
          "metadata": {}
        }
      ]
    },
    {
      "cell_type": "code",
      "source": [
        "x=''\n",
        "for i in range(8):\n",
        "    x=x+str(trainY[i])+' '\n",
        "print(x)"
      ],
      "metadata": {
        "colab": {
          "base_uri": "https://localhost:8080/"
        },
        "id": "jAf9io4RAHzO",
        "outputId": "0a765984-4803-4e8c-ab88-99b08ffde813"
      },
      "execution_count": null,
      "outputs": [
        {
          "output_type": "stream",
          "name": "stdout",
          "text": [
            "5 0 4 1 9 2 1 3 \n"
          ]
        }
      ]
    },
    {
      "cell_type": "code",
      "source": [
        "trainX=trainX.reshape(60000,28*28)"
      ],
      "metadata": {
        "id": "dbVIviyhATPa"
      },
      "execution_count": null,
      "outputs": []
    },
    {
      "cell_type": "code",
      "source": [
        "testX=testX.reshape(10000,28*28)"
      ],
      "metadata": {
        "id": "1NaY9cp3qJaG"
      },
      "execution_count": null,
      "outputs": []
    },
    {
      "cell_type": "code",
      "source": [
        "testX.shape"
      ],
      "metadata": {
        "colab": {
          "base_uri": "https://localhost:8080/"
        },
        "id": "HYP0842ZqPn4",
        "outputId": "3bc32654-b7a9-44bc-8981-5bc8e431482d"
      },
      "execution_count": null,
      "outputs": [
        {
          "output_type": "execute_result",
          "data": {
            "text/plain": [
              "(10000, 784)"
            ]
          },
          "metadata": {},
          "execution_count": 20
        }
      ]
    },
    {
      "cell_type": "code",
      "source": [
        "trainX_01=trainX/255\n",
        "testX_01=testX/255"
      ],
      "metadata": {
        "id": "XpbHKfOpqynG"
      },
      "execution_count": null,
      "outputs": []
    },
    {
      "cell_type": "code",
      "source": [
        "trainX_01[34]"
      ],
      "metadata": {
        "colab": {
          "base_uri": "https://localhost:8080/"
        },
        "id": "aNatB2P0rDtj",
        "outputId": "9babbdb0-48f7-447a-c6e4-48cdf036a7c2"
      },
      "execution_count": null,
      "outputs": [
        {
          "output_type": "execute_result",
          "data": {
            "text/plain": [
              "array([0.        , 0.        , 0.        , 0.        , 0.        ,\n",
              "       0.        , 0.        , 0.        , 0.        , 0.        ,\n",
              "       0.        , 0.        , 0.        , 0.        , 0.        ,\n",
              "       0.        , 0.        , 0.        , 0.        , 0.        ,\n",
              "       0.        , 0.        , 0.        , 0.        , 0.        ,\n",
              "       0.        , 0.        , 0.        , 0.        , 0.        ,\n",
              "       0.        , 0.        , 0.        , 0.        , 0.        ,\n",
              "       0.        , 0.        , 0.        , 0.        , 0.        ,\n",
              "       0.        , 0.        , 0.        , 0.        , 0.        ,\n",
              "       0.        , 0.        , 0.        , 0.        , 0.        ,\n",
              "       0.        , 0.        , 0.        , 0.        , 0.        ,\n",
              "       0.        , 0.        , 0.        , 0.        , 0.        ,\n",
              "       0.        , 0.        , 0.        , 0.        , 0.        ,\n",
              "       0.        , 0.        , 0.        , 0.        , 0.        ,\n",
              "       0.        , 0.        , 0.        , 0.        , 0.        ,\n",
              "       0.        , 0.        , 0.        , 0.        , 0.        ,\n",
              "       0.        , 0.        , 0.        , 0.        , 0.        ,\n",
              "       0.        , 0.        , 0.        , 0.        , 0.        ,\n",
              "       0.        , 0.        , 0.        , 0.        , 0.        ,\n",
              "       0.        , 0.        , 0.        , 0.        , 0.        ,\n",
              "       0.        , 0.        , 0.        , 0.        , 0.        ,\n",
              "       0.        , 0.        , 0.        , 0.        , 0.        ,\n",
              "       0.        , 0.        , 0.        , 0.        , 0.        ,\n",
              "       0.        , 0.        , 0.        , 0.        , 0.        ,\n",
              "       0.        , 0.        , 0.        , 0.        , 0.        ,\n",
              "       0.        , 0.        , 0.        , 0.        , 0.        ,\n",
              "       0.        , 0.        , 0.        , 0.        , 0.        ,\n",
              "       0.        , 0.        , 0.        , 0.        , 0.        ,\n",
              "       0.        , 0.        , 0.        , 0.        , 0.        ,\n",
              "       0.        , 0.        , 0.        , 0.        , 0.        ,\n",
              "       0.        , 0.        , 0.        , 0.        , 0.20784314,\n",
              "       1.        , 0.99215686, 0.99215686, 0.99215686, 0.48627451,\n",
              "       0.        , 0.        , 0.        , 0.        , 0.        ,\n",
              "       0.        , 0.        , 0.        , 0.        , 0.        ,\n",
              "       0.        , 0.        , 0.        , 0.        , 0.        ,\n",
              "       0.        , 0.        , 0.        , 0.        , 0.        ,\n",
              "       0.        , 0.        , 0.70588235, 0.99215686, 0.98431373,\n",
              "       0.98431373, 0.98431373, 0.98431373, 0.56862745, 0.24313725,\n",
              "       0.        , 0.        , 0.        , 0.        , 0.        ,\n",
              "       0.        , 0.        , 0.        , 0.        , 0.        ,\n",
              "       0.        , 0.        , 0.        , 0.        , 0.        ,\n",
              "       0.        , 0.        , 0.        , 0.1254902 , 0.85098039,\n",
              "       0.94509804, 0.99215686, 0.98431373, 0.98431373, 0.98431373,\n",
              "       0.98431373, 0.99215686, 0.41960784, 0.        , 0.        ,\n",
              "       0.        , 0.        , 0.        , 0.        , 0.        ,\n",
              "       0.        , 0.        , 0.        , 0.        , 0.        ,\n",
              "       0.        , 0.        , 0.        , 0.        , 0.        ,\n",
              "       0.        , 0.14509804, 0.98431373, 0.98431373, 0.99215686,\n",
              "       0.98431373, 0.98431373, 0.98431373, 0.98431373, 0.99215686,\n",
              "       0.41960784, 0.        , 0.        , 0.        , 0.        ,\n",
              "       0.        , 0.        , 0.        , 0.        , 0.        ,\n",
              "       0.        , 0.        , 0.        , 0.        , 0.        ,\n",
              "       0.        , 0.        , 0.        , 0.        , 0.65098039,\n",
              "       0.98431373, 0.98431373, 0.99215686, 0.98431373, 0.37647059,\n",
              "       0.58039216, 0.98431373, 0.99215686, 0.41960784, 0.        ,\n",
              "       0.        , 0.        , 0.        , 0.        , 0.        ,\n",
              "       0.        , 0.        , 0.        , 0.        , 0.        ,\n",
              "       0.        , 0.        , 0.        , 0.        , 0.        ,\n",
              "       0.28627451, 0.99215686, 0.99215686, 0.99215686, 0.99215686,\n",
              "       0.50980392, 0.        , 0.        , 0.43137255, 0.99215686,\n",
              "       1.        , 0.42352941, 0.        , 0.        , 0.        ,\n",
              "       0.        , 0.        , 0.        , 0.        , 0.        ,\n",
              "       0.        , 0.        , 0.        , 0.        , 0.        ,\n",
              "       0.        , 0.        , 0.        , 0.28627451, 0.98431373,\n",
              "       0.98431373, 0.98431373, 0.98431373, 0.        , 0.        ,\n",
              "       0.        , 0.42745098, 0.98431373, 0.99215686, 0.41960784,\n",
              "       0.        , 0.        , 0.        , 0.        , 0.        ,\n",
              "       0.        , 0.        , 0.        , 0.        , 0.        ,\n",
              "       0.        , 0.        , 0.        , 0.        , 0.        ,\n",
              "       0.        , 0.79215686, 0.98431373, 0.98431373, 0.98431373,\n",
              "       0.88235294, 0.        , 0.        , 0.02352941, 0.50588235,\n",
              "       0.98431373, 0.99215686, 0.41960784, 0.        , 0.        ,\n",
              "       0.        , 0.        , 0.        , 0.        , 0.        ,\n",
              "       0.        , 0.        , 0.        , 0.        , 0.        ,\n",
              "       0.        , 0.        , 0.        , 0.        , 0.58823529,\n",
              "       0.98431373, 0.98431373, 0.98431373, 0.27843137, 0.        ,\n",
              "       0.        , 0.45098039, 0.98431373, 0.98431373, 0.99215686,\n",
              "       0.41960784, 0.        , 0.        , 0.        , 0.        ,\n",
              "       0.        , 0.        , 0.        , 0.        , 0.        ,\n",
              "       0.        , 0.        , 0.        , 0.        , 0.        ,\n",
              "       0.        , 0.        , 0.99215686, 0.98431373, 0.98431373,\n",
              "       0.67843137, 0.07843137, 0.        , 0.        , 0.85098039,\n",
              "       0.98431373, 0.98431373, 0.99215686, 0.41960784, 0.        ,\n",
              "       0.        , 0.        , 0.        , 0.        , 0.        ,\n",
              "       0.        , 0.        , 0.        , 0.        , 0.        ,\n",
              "       0.        , 0.        , 0.        , 0.        , 0.71372549,\n",
              "       1.        , 0.99215686, 0.84705882, 0.        , 0.        ,\n",
              "       0.        , 0.        , 0.85490196, 0.99215686, 0.99215686,\n",
              "       0.71372549, 0.        , 0.        , 0.        , 0.        ,\n",
              "       0.        , 0.        , 0.        , 0.        , 0.        ,\n",
              "       0.        , 0.        , 0.        , 0.        , 0.        ,\n",
              "       0.        , 0.24705882, 0.86666667, 0.99215686, 0.98431373,\n",
              "       0.84313725, 0.        , 0.        , 0.        , 0.32941176,\n",
              "       0.9254902 , 0.98431373, 0.98431373, 0.30196078, 0.        ,\n",
              "       0.        , 0.        , 0.        , 0.        , 0.        ,\n",
              "       0.        , 0.        , 0.        , 0.        , 0.        ,\n",
              "       0.        , 0.        , 0.        , 0.        , 0.42745098,\n",
              "       0.98431373, 0.99215686, 0.98431373, 0.84313725, 0.        ,\n",
              "       0.        , 0.04313725, 0.62745098, 0.98431373, 0.98431373,\n",
              "       0.37647059, 0.        , 0.        , 0.        , 0.        ,\n",
              "       0.        , 0.        , 0.        , 0.        , 0.        ,\n",
              "       0.        , 0.        , 0.        , 0.        , 0.        ,\n",
              "       0.        , 0.        , 0.42745098, 0.98431373, 0.99215686,\n",
              "       0.98431373, 0.5372549 , 0.        , 0.        , 0.58823529,\n",
              "       0.98431373, 0.98431373, 0.98431373, 0.27843137, 0.        ,\n",
              "       0.        , 0.        , 0.        , 0.        , 0.        ,\n",
              "       0.        , 0.        , 0.        , 0.        , 0.        ,\n",
              "       0.        , 0.        , 0.        , 0.        , 0.        ,\n",
              "       0.42745098, 0.98431373, 0.99215686, 0.98431373, 0.1372549 ,\n",
              "       0.        , 0.50980392, 0.99215686, 0.98431373, 0.98431373,\n",
              "       0.67843137, 0.07843137, 0.        , 0.        , 0.        ,\n",
              "       0.        , 0.        , 0.        , 0.        , 0.        ,\n",
              "       0.        , 0.        , 0.        , 0.        , 0.        ,\n",
              "       0.        , 0.        , 0.        , 0.43137255, 0.99215686,\n",
              "       1.        , 0.99215686, 0.38431373, 0.58823529, 0.99215686,\n",
              "       1.        , 0.99215686, 0.64313725, 0.        , 0.        ,\n",
              "       0.        , 0.        , 0.        , 0.        , 0.        ,\n",
              "       0.        , 0.        , 0.        , 0.        , 0.        ,\n",
              "       0.        , 0.        , 0.        , 0.        , 0.        ,\n",
              "       0.        , 0.42745098, 0.98431373, 0.99215686, 0.98431373,\n",
              "       0.98431373, 0.98431373, 0.98431373, 0.99215686, 0.98431373,\n",
              "       0.1372549 , 0.        , 0.        , 0.        , 0.        ,\n",
              "       0.        , 0.        , 0.        , 0.        , 0.        ,\n",
              "       0.        , 0.        , 0.        , 0.        , 0.        ,\n",
              "       0.        , 0.        , 0.        , 0.        , 0.36470588,\n",
              "       0.94509804, 0.99215686, 0.98431373, 0.98431373, 0.98431373,\n",
              "       0.98431373, 0.84705882, 0.43921569, 0.01960784, 0.        ,\n",
              "       0.        , 0.        , 0.        , 0.        , 0.        ,\n",
              "       0.        , 0.        , 0.        , 0.        , 0.        ,\n",
              "       0.        , 0.        , 0.        , 0.        , 0.        ,\n",
              "       0.        , 0.        , 0.        , 0.40392157, 0.99215686,\n",
              "       0.98431373, 0.98431373, 0.98431373, 0.98431373, 0.        ,\n",
              "       0.        , 0.        , 0.        , 0.        , 0.        ,\n",
              "       0.        , 0.        , 0.        , 0.        , 0.        ,\n",
              "       0.        , 0.        , 0.        , 0.        , 0.        ,\n",
              "       0.        , 0.        , 0.        , 0.        , 0.        ,\n",
              "       0.        , 0.        , 0.48627451, 0.98431373, 0.88235294,\n",
              "       0.27843137, 0.27843137, 0.        , 0.        , 0.        ,\n",
              "       0.        , 0.        , 0.        , 0.        , 0.        ,\n",
              "       0.        , 0.        , 0.        , 0.        , 0.        ,\n",
              "       0.        , 0.        , 0.        , 0.        , 0.        ,\n",
              "       0.        , 0.        , 0.        , 0.        , 0.        ,\n",
              "       0.        , 0.        , 0.        , 0.        , 0.        ,\n",
              "       0.        , 0.        , 0.        , 0.        , 0.        ,\n",
              "       0.        , 0.        , 0.        , 0.        , 0.        ,\n",
              "       0.        , 0.        , 0.        , 0.        , 0.        ,\n",
              "       0.        , 0.        , 0.        , 0.        , 0.        ,\n",
              "       0.        , 0.        , 0.        , 0.        , 0.        ,\n",
              "       0.        , 0.        , 0.        , 0.        , 0.        ,\n",
              "       0.        , 0.        , 0.        , 0.        , 0.        ,\n",
              "       0.        , 0.        , 0.        , 0.        , 0.        ,\n",
              "       0.        , 0.        , 0.        , 0.        , 0.        ,\n",
              "       0.        , 0.        , 0.        , 0.        , 0.        ,\n",
              "       0.        , 0.        , 0.        , 0.        , 0.        ,\n",
              "       0.        , 0.        , 0.        , 0.        , 0.        ,\n",
              "       0.        , 0.        , 0.        , 0.        , 0.        ,\n",
              "       0.        , 0.        , 0.        , 0.        ])"
            ]
          },
          "metadata": {},
          "execution_count": 22
        }
      ]
    },
    {
      "cell_type": "code",
      "source": [
        "from sklearn.preprocessing import StandardScaler"
      ],
      "metadata": {
        "id": "X1QQViMBrMei"
      },
      "execution_count": null,
      "outputs": []
    },
    {
      "cell_type": "code",
      "source": [
        "scaler=StandardScaler()"
      ],
      "metadata": {
        "id": "HsLNCmj8ro4l"
      },
      "execution_count": null,
      "outputs": []
    },
    {
      "cell_type": "code",
      "source": [
        "scaler.fit(trainX) #trenujemy tutaj"
      ],
      "metadata": {
        "colab": {
          "base_uri": "https://localhost:8080/",
          "height": 80
        },
        "id": "CGMXRzovr0R1",
        "outputId": "4b4ccd4b-6255-4389-e831-18f72c4f1536"
      },
      "execution_count": null,
      "outputs": [
        {
          "output_type": "execute_result",
          "data": {
            "text/plain": [
              "StandardScaler()"
            ],
            "text/html": [
              "<style>#sk-container-id-1 {\n",
              "  /* Definition of color scheme common for light and dark mode */\n",
              "  --sklearn-color-text: #000;\n",
              "  --sklearn-color-text-muted: #666;\n",
              "  --sklearn-color-line: gray;\n",
              "  /* Definition of color scheme for unfitted estimators */\n",
              "  --sklearn-color-unfitted-level-0: #fff5e6;\n",
              "  --sklearn-color-unfitted-level-1: #f6e4d2;\n",
              "  --sklearn-color-unfitted-level-2: #ffe0b3;\n",
              "  --sklearn-color-unfitted-level-3: chocolate;\n",
              "  /* Definition of color scheme for fitted estimators */\n",
              "  --sklearn-color-fitted-level-0: #f0f8ff;\n",
              "  --sklearn-color-fitted-level-1: #d4ebff;\n",
              "  --sklearn-color-fitted-level-2: #b3dbfd;\n",
              "  --sklearn-color-fitted-level-3: cornflowerblue;\n",
              "\n",
              "  /* Specific color for light theme */\n",
              "  --sklearn-color-text-on-default-background: var(--sg-text-color, var(--theme-code-foreground, var(--jp-content-font-color1, black)));\n",
              "  --sklearn-color-background: var(--sg-background-color, var(--theme-background, var(--jp-layout-color0, white)));\n",
              "  --sklearn-color-border-box: var(--sg-text-color, var(--theme-code-foreground, var(--jp-content-font-color1, black)));\n",
              "  --sklearn-color-icon: #696969;\n",
              "\n",
              "  @media (prefers-color-scheme: dark) {\n",
              "    /* Redefinition of color scheme for dark theme */\n",
              "    --sklearn-color-text-on-default-background: var(--sg-text-color, var(--theme-code-foreground, var(--jp-content-font-color1, white)));\n",
              "    --sklearn-color-background: var(--sg-background-color, var(--theme-background, var(--jp-layout-color0, #111)));\n",
              "    --sklearn-color-border-box: var(--sg-text-color, var(--theme-code-foreground, var(--jp-content-font-color1, white)));\n",
              "    --sklearn-color-icon: #878787;\n",
              "  }\n",
              "}\n",
              "\n",
              "#sk-container-id-1 {\n",
              "  color: var(--sklearn-color-text);\n",
              "}\n",
              "\n",
              "#sk-container-id-1 pre {\n",
              "  padding: 0;\n",
              "}\n",
              "\n",
              "#sk-container-id-1 input.sk-hidden--visually {\n",
              "  border: 0;\n",
              "  clip: rect(1px 1px 1px 1px);\n",
              "  clip: rect(1px, 1px, 1px, 1px);\n",
              "  height: 1px;\n",
              "  margin: -1px;\n",
              "  overflow: hidden;\n",
              "  padding: 0;\n",
              "  position: absolute;\n",
              "  width: 1px;\n",
              "}\n",
              "\n",
              "#sk-container-id-1 div.sk-dashed-wrapped {\n",
              "  border: 1px dashed var(--sklearn-color-line);\n",
              "  margin: 0 0.4em 0.5em 0.4em;\n",
              "  box-sizing: border-box;\n",
              "  padding-bottom: 0.4em;\n",
              "  background-color: var(--sklearn-color-background);\n",
              "}\n",
              "\n",
              "#sk-container-id-1 div.sk-container {\n",
              "  /* jupyter's `normalize.less` sets `[hidden] { display: none; }`\n",
              "     but bootstrap.min.css set `[hidden] { display: none !important; }`\n",
              "     so we also need the `!important` here to be able to override the\n",
              "     default hidden behavior on the sphinx rendered scikit-learn.org.\n",
              "     See: https://github.com/scikit-learn/scikit-learn/issues/21755 */\n",
              "  display: inline-block !important;\n",
              "  position: relative;\n",
              "}\n",
              "\n",
              "#sk-container-id-1 div.sk-text-repr-fallback {\n",
              "  display: none;\n",
              "}\n",
              "\n",
              "div.sk-parallel-item,\n",
              "div.sk-serial,\n",
              "div.sk-item {\n",
              "  /* draw centered vertical line to link estimators */\n",
              "  background-image: linear-gradient(var(--sklearn-color-text-on-default-background), var(--sklearn-color-text-on-default-background));\n",
              "  background-size: 2px 100%;\n",
              "  background-repeat: no-repeat;\n",
              "  background-position: center center;\n",
              "}\n",
              "\n",
              "/* Parallel-specific style estimator block */\n",
              "\n",
              "#sk-container-id-1 div.sk-parallel-item::after {\n",
              "  content: \"\";\n",
              "  width: 100%;\n",
              "  border-bottom: 2px solid var(--sklearn-color-text-on-default-background);\n",
              "  flex-grow: 1;\n",
              "}\n",
              "\n",
              "#sk-container-id-1 div.sk-parallel {\n",
              "  display: flex;\n",
              "  align-items: stretch;\n",
              "  justify-content: center;\n",
              "  background-color: var(--sklearn-color-background);\n",
              "  position: relative;\n",
              "}\n",
              "\n",
              "#sk-container-id-1 div.sk-parallel-item {\n",
              "  display: flex;\n",
              "  flex-direction: column;\n",
              "}\n",
              "\n",
              "#sk-container-id-1 div.sk-parallel-item:first-child::after {\n",
              "  align-self: flex-end;\n",
              "  width: 50%;\n",
              "}\n",
              "\n",
              "#sk-container-id-1 div.sk-parallel-item:last-child::after {\n",
              "  align-self: flex-start;\n",
              "  width: 50%;\n",
              "}\n",
              "\n",
              "#sk-container-id-1 div.sk-parallel-item:only-child::after {\n",
              "  width: 0;\n",
              "}\n",
              "\n",
              "/* Serial-specific style estimator block */\n",
              "\n",
              "#sk-container-id-1 div.sk-serial {\n",
              "  display: flex;\n",
              "  flex-direction: column;\n",
              "  align-items: center;\n",
              "  background-color: var(--sklearn-color-background);\n",
              "  padding-right: 1em;\n",
              "  padding-left: 1em;\n",
              "}\n",
              "\n",
              "\n",
              "/* Toggleable style: style used for estimator/Pipeline/ColumnTransformer box that is\n",
              "clickable and can be expanded/collapsed.\n",
              "- Pipeline and ColumnTransformer use this feature and define the default style\n",
              "- Estimators will overwrite some part of the style using the `sk-estimator` class\n",
              "*/\n",
              "\n",
              "/* Pipeline and ColumnTransformer style (default) */\n",
              "\n",
              "#sk-container-id-1 div.sk-toggleable {\n",
              "  /* Default theme specific background. It is overwritten whether we have a\n",
              "  specific estimator or a Pipeline/ColumnTransformer */\n",
              "  background-color: var(--sklearn-color-background);\n",
              "}\n",
              "\n",
              "/* Toggleable label */\n",
              "#sk-container-id-1 label.sk-toggleable__label {\n",
              "  cursor: pointer;\n",
              "  display: flex;\n",
              "  width: 100%;\n",
              "  margin-bottom: 0;\n",
              "  padding: 0.5em;\n",
              "  box-sizing: border-box;\n",
              "  text-align: center;\n",
              "  align-items: start;\n",
              "  justify-content: space-between;\n",
              "  gap: 0.5em;\n",
              "}\n",
              "\n",
              "#sk-container-id-1 label.sk-toggleable__label .caption {\n",
              "  font-size: 0.6rem;\n",
              "  font-weight: lighter;\n",
              "  color: var(--sklearn-color-text-muted);\n",
              "}\n",
              "\n",
              "#sk-container-id-1 label.sk-toggleable__label-arrow:before {\n",
              "  /* Arrow on the left of the label */\n",
              "  content: \"▸\";\n",
              "  float: left;\n",
              "  margin-right: 0.25em;\n",
              "  color: var(--sklearn-color-icon);\n",
              "}\n",
              "\n",
              "#sk-container-id-1 label.sk-toggleable__label-arrow:hover:before {\n",
              "  color: var(--sklearn-color-text);\n",
              "}\n",
              "\n",
              "/* Toggleable content - dropdown */\n",
              "\n",
              "#sk-container-id-1 div.sk-toggleable__content {\n",
              "  max-height: 0;\n",
              "  max-width: 0;\n",
              "  overflow: hidden;\n",
              "  text-align: left;\n",
              "  /* unfitted */\n",
              "  background-color: var(--sklearn-color-unfitted-level-0);\n",
              "}\n",
              "\n",
              "#sk-container-id-1 div.sk-toggleable__content.fitted {\n",
              "  /* fitted */\n",
              "  background-color: var(--sklearn-color-fitted-level-0);\n",
              "}\n",
              "\n",
              "#sk-container-id-1 div.sk-toggleable__content pre {\n",
              "  margin: 0.2em;\n",
              "  border-radius: 0.25em;\n",
              "  color: var(--sklearn-color-text);\n",
              "  /* unfitted */\n",
              "  background-color: var(--sklearn-color-unfitted-level-0);\n",
              "}\n",
              "\n",
              "#sk-container-id-1 div.sk-toggleable__content.fitted pre {\n",
              "  /* unfitted */\n",
              "  background-color: var(--sklearn-color-fitted-level-0);\n",
              "}\n",
              "\n",
              "#sk-container-id-1 input.sk-toggleable__control:checked~div.sk-toggleable__content {\n",
              "  /* Expand drop-down */\n",
              "  max-height: 200px;\n",
              "  max-width: 100%;\n",
              "  overflow: auto;\n",
              "}\n",
              "\n",
              "#sk-container-id-1 input.sk-toggleable__control:checked~label.sk-toggleable__label-arrow:before {\n",
              "  content: \"▾\";\n",
              "}\n",
              "\n",
              "/* Pipeline/ColumnTransformer-specific style */\n",
              "\n",
              "#sk-container-id-1 div.sk-label input.sk-toggleable__control:checked~label.sk-toggleable__label {\n",
              "  color: var(--sklearn-color-text);\n",
              "  background-color: var(--sklearn-color-unfitted-level-2);\n",
              "}\n",
              "\n",
              "#sk-container-id-1 div.sk-label.fitted input.sk-toggleable__control:checked~label.sk-toggleable__label {\n",
              "  background-color: var(--sklearn-color-fitted-level-2);\n",
              "}\n",
              "\n",
              "/* Estimator-specific style */\n",
              "\n",
              "/* Colorize estimator box */\n",
              "#sk-container-id-1 div.sk-estimator input.sk-toggleable__control:checked~label.sk-toggleable__label {\n",
              "  /* unfitted */\n",
              "  background-color: var(--sklearn-color-unfitted-level-2);\n",
              "}\n",
              "\n",
              "#sk-container-id-1 div.sk-estimator.fitted input.sk-toggleable__control:checked~label.sk-toggleable__label {\n",
              "  /* fitted */\n",
              "  background-color: var(--sklearn-color-fitted-level-2);\n",
              "}\n",
              "\n",
              "#sk-container-id-1 div.sk-label label.sk-toggleable__label,\n",
              "#sk-container-id-1 div.sk-label label {\n",
              "  /* The background is the default theme color */\n",
              "  color: var(--sklearn-color-text-on-default-background);\n",
              "}\n",
              "\n",
              "/* On hover, darken the color of the background */\n",
              "#sk-container-id-1 div.sk-label:hover label.sk-toggleable__label {\n",
              "  color: var(--sklearn-color-text);\n",
              "  background-color: var(--sklearn-color-unfitted-level-2);\n",
              "}\n",
              "\n",
              "/* Label box, darken color on hover, fitted */\n",
              "#sk-container-id-1 div.sk-label.fitted:hover label.sk-toggleable__label.fitted {\n",
              "  color: var(--sklearn-color-text);\n",
              "  background-color: var(--sklearn-color-fitted-level-2);\n",
              "}\n",
              "\n",
              "/* Estimator label */\n",
              "\n",
              "#sk-container-id-1 div.sk-label label {\n",
              "  font-family: monospace;\n",
              "  font-weight: bold;\n",
              "  display: inline-block;\n",
              "  line-height: 1.2em;\n",
              "}\n",
              "\n",
              "#sk-container-id-1 div.sk-label-container {\n",
              "  text-align: center;\n",
              "}\n",
              "\n",
              "/* Estimator-specific */\n",
              "#sk-container-id-1 div.sk-estimator {\n",
              "  font-family: monospace;\n",
              "  border: 1px dotted var(--sklearn-color-border-box);\n",
              "  border-radius: 0.25em;\n",
              "  box-sizing: border-box;\n",
              "  margin-bottom: 0.5em;\n",
              "  /* unfitted */\n",
              "  background-color: var(--sklearn-color-unfitted-level-0);\n",
              "}\n",
              "\n",
              "#sk-container-id-1 div.sk-estimator.fitted {\n",
              "  /* fitted */\n",
              "  background-color: var(--sklearn-color-fitted-level-0);\n",
              "}\n",
              "\n",
              "/* on hover */\n",
              "#sk-container-id-1 div.sk-estimator:hover {\n",
              "  /* unfitted */\n",
              "  background-color: var(--sklearn-color-unfitted-level-2);\n",
              "}\n",
              "\n",
              "#sk-container-id-1 div.sk-estimator.fitted:hover {\n",
              "  /* fitted */\n",
              "  background-color: var(--sklearn-color-fitted-level-2);\n",
              "}\n",
              "\n",
              "/* Specification for estimator info (e.g. \"i\" and \"?\") */\n",
              "\n",
              "/* Common style for \"i\" and \"?\" */\n",
              "\n",
              ".sk-estimator-doc-link,\n",
              "a:link.sk-estimator-doc-link,\n",
              "a:visited.sk-estimator-doc-link {\n",
              "  float: right;\n",
              "  font-size: smaller;\n",
              "  line-height: 1em;\n",
              "  font-family: monospace;\n",
              "  background-color: var(--sklearn-color-background);\n",
              "  border-radius: 1em;\n",
              "  height: 1em;\n",
              "  width: 1em;\n",
              "  text-decoration: none !important;\n",
              "  margin-left: 0.5em;\n",
              "  text-align: center;\n",
              "  /* unfitted */\n",
              "  border: var(--sklearn-color-unfitted-level-1) 1pt solid;\n",
              "  color: var(--sklearn-color-unfitted-level-1);\n",
              "}\n",
              "\n",
              ".sk-estimator-doc-link.fitted,\n",
              "a:link.sk-estimator-doc-link.fitted,\n",
              "a:visited.sk-estimator-doc-link.fitted {\n",
              "  /* fitted */\n",
              "  border: var(--sklearn-color-fitted-level-1) 1pt solid;\n",
              "  color: var(--sklearn-color-fitted-level-1);\n",
              "}\n",
              "\n",
              "/* On hover */\n",
              "div.sk-estimator:hover .sk-estimator-doc-link:hover,\n",
              ".sk-estimator-doc-link:hover,\n",
              "div.sk-label-container:hover .sk-estimator-doc-link:hover,\n",
              ".sk-estimator-doc-link:hover {\n",
              "  /* unfitted */\n",
              "  background-color: var(--sklearn-color-unfitted-level-3);\n",
              "  color: var(--sklearn-color-background);\n",
              "  text-decoration: none;\n",
              "}\n",
              "\n",
              "div.sk-estimator.fitted:hover .sk-estimator-doc-link.fitted:hover,\n",
              ".sk-estimator-doc-link.fitted:hover,\n",
              "div.sk-label-container:hover .sk-estimator-doc-link.fitted:hover,\n",
              ".sk-estimator-doc-link.fitted:hover {\n",
              "  /* fitted */\n",
              "  background-color: var(--sklearn-color-fitted-level-3);\n",
              "  color: var(--sklearn-color-background);\n",
              "  text-decoration: none;\n",
              "}\n",
              "\n",
              "/* Span, style for the box shown on hovering the info icon */\n",
              ".sk-estimator-doc-link span {\n",
              "  display: none;\n",
              "  z-index: 9999;\n",
              "  position: relative;\n",
              "  font-weight: normal;\n",
              "  right: .2ex;\n",
              "  padding: .5ex;\n",
              "  margin: .5ex;\n",
              "  width: min-content;\n",
              "  min-width: 20ex;\n",
              "  max-width: 50ex;\n",
              "  color: var(--sklearn-color-text);\n",
              "  box-shadow: 2pt 2pt 4pt #999;\n",
              "  /* unfitted */\n",
              "  background: var(--sklearn-color-unfitted-level-0);\n",
              "  border: .5pt solid var(--sklearn-color-unfitted-level-3);\n",
              "}\n",
              "\n",
              ".sk-estimator-doc-link.fitted span {\n",
              "  /* fitted */\n",
              "  background: var(--sklearn-color-fitted-level-0);\n",
              "  border: var(--sklearn-color-fitted-level-3);\n",
              "}\n",
              "\n",
              ".sk-estimator-doc-link:hover span {\n",
              "  display: block;\n",
              "}\n",
              "\n",
              "/* \"?\"-specific style due to the `<a>` HTML tag */\n",
              "\n",
              "#sk-container-id-1 a.estimator_doc_link {\n",
              "  float: right;\n",
              "  font-size: 1rem;\n",
              "  line-height: 1em;\n",
              "  font-family: monospace;\n",
              "  background-color: var(--sklearn-color-background);\n",
              "  border-radius: 1rem;\n",
              "  height: 1rem;\n",
              "  width: 1rem;\n",
              "  text-decoration: none;\n",
              "  /* unfitted */\n",
              "  color: var(--sklearn-color-unfitted-level-1);\n",
              "  border: var(--sklearn-color-unfitted-level-1) 1pt solid;\n",
              "}\n",
              "\n",
              "#sk-container-id-1 a.estimator_doc_link.fitted {\n",
              "  /* fitted */\n",
              "  border: var(--sklearn-color-fitted-level-1) 1pt solid;\n",
              "  color: var(--sklearn-color-fitted-level-1);\n",
              "}\n",
              "\n",
              "/* On hover */\n",
              "#sk-container-id-1 a.estimator_doc_link:hover {\n",
              "  /* unfitted */\n",
              "  background-color: var(--sklearn-color-unfitted-level-3);\n",
              "  color: var(--sklearn-color-background);\n",
              "  text-decoration: none;\n",
              "}\n",
              "\n",
              "#sk-container-id-1 a.estimator_doc_link.fitted:hover {\n",
              "  /* fitted */\n",
              "  background-color: var(--sklearn-color-fitted-level-3);\n",
              "}\n",
              "</style><div id=\"sk-container-id-1\" class=\"sk-top-container\"><div class=\"sk-text-repr-fallback\"><pre>StandardScaler()</pre><b>In a Jupyter environment, please rerun this cell to show the HTML representation or trust the notebook. <br />On GitHub, the HTML representation is unable to render, please try loading this page with nbviewer.org.</b></div><div class=\"sk-container\" hidden><div class=\"sk-item\"><div class=\"sk-estimator fitted sk-toggleable\"><input class=\"sk-toggleable__control sk-hidden--visually\" id=\"sk-estimator-id-1\" type=\"checkbox\" checked><label for=\"sk-estimator-id-1\" class=\"sk-toggleable__label fitted sk-toggleable__label-arrow\"><div><div>StandardScaler</div></div><div><a class=\"sk-estimator-doc-link fitted\" rel=\"noreferrer\" target=\"_blank\" href=\"https://scikit-learn.org/1.6/modules/generated/sklearn.preprocessing.StandardScaler.html\">?<span>Documentation for StandardScaler</span></a><span class=\"sk-estimator-doc-link fitted\">i<span>Fitted</span></span></div></label><div class=\"sk-toggleable__content fitted\"><pre>StandardScaler()</pre></div> </div></div></div></div>"
            ]
          },
          "metadata": {},
          "execution_count": 25
        }
      ]
    },
    {
      "cell_type": "code",
      "source": [
        "trainX_std=scaler.transform(trainX)\n",
        "testX_std=scaler.transform(testX)"
      ],
      "metadata": {
        "id": "jnFqGxq2sAKE"
      },
      "execution_count": null,
      "outputs": []
    },
    {
      "cell_type": "code",
      "source": [
        "trainX_std[45]"
      ],
      "metadata": {
        "colab": {
          "base_uri": "https://localhost:8080/"
        },
        "id": "F2NtyFsusNPl",
        "outputId": "98ce6f6b-abcb-4d07-94f9-678f83744230"
      },
      "execution_count": null,
      "outputs": [
        {
          "output_type": "execute_result",
          "data": {
            "text/plain": [
              "array([ 0.00000000e+00,  0.00000000e+00,  0.00000000e+00,  0.00000000e+00,\n",
              "        0.00000000e+00,  0.00000000e+00,  0.00000000e+00,  0.00000000e+00,\n",
              "        0.00000000e+00,  0.00000000e+00,  0.00000000e+00,  0.00000000e+00,\n",
              "       -4.41807799e-03, -5.75481961e-03, -4.08251693e-03, -4.08251693e-03,\n",
              "        0.00000000e+00,  0.00000000e+00,  0.00000000e+00,  0.00000000e+00,\n",
              "        0.00000000e+00,  0.00000000e+00,  0.00000000e+00,  0.00000000e+00,\n",
              "        0.00000000e+00,  0.00000000e+00,  0.00000000e+00,  0.00000000e+00,\n",
              "        0.00000000e+00,  0.00000000e+00,  0.00000000e+00,  0.00000000e+00,\n",
              "       -4.08251693e-03, -4.70968827e-03, -8.79934640e-03, -1.15905591e-02,\n",
              "       -1.47589798e-02, -1.92848546e-02, -2.46717975e-02, -2.90710271e-02,\n",
              "       -3.05926583e-02, -3.11640127e-02, -3.19628719e-02, -3.02025355e-02,\n",
              "       -3.13102175e-02, -2.83833960e-02, -2.31191906e-02, -1.91666260e-02,\n",
              "       -1.67723008e-02, -1.09963601e-02, -8.32486080e-03, -4.38069356e-03,\n",
              "        0.00000000e+00,  0.00000000e+00,  0.00000000e+00,  0.00000000e+00,\n",
              "        0.00000000e+00,  0.00000000e+00, -4.08251693e-03, -5.39534598e-03,\n",
              "       -8.52241235e-03, -1.19850363e-02, -1.76534777e-02, -2.77108989e-02,\n",
              "       -3.70200943e-02, -5.21512802e-02, -6.70362007e-02, -8.30170484e-02,\n",
              "       -9.93792978e-02, -1.15184128e-01, -1.29133256e-01, -1.38394677e-01,\n",
              "       -1.38883631e-01, -1.31843438e-01, -1.20429522e-01, -1.01890795e-01,\n",
              "       -7.86049044e-02, -5.69956130e-02, -3.96576839e-02, -2.37283861e-02,\n",
              "       -1.40883463e-02, -7.83084068e-03,  0.00000000e+00,  0.00000000e+00,\n",
              "        0.00000000e+00,  0.00000000e+00, -5.36837753e-03, -8.87060589e-03,\n",
              "       -1.40708170e-02, -2.21468098e-02, -3.51801368e-02, -5.50236802e-02,\n",
              "       -7.90961321e-02, -1.07649012e-01, -1.37169936e-01, -1.67105761e-01,\n",
              "       -1.96008755e-01, -2.24491114e-01, -2.48655991e-01, -2.62117971e-01,\n",
              "       -2.62596902e-01, -2.47855903e-01, -2.21947003e-01, -1.87211405e-01,\n",
              "       -1.47640132e-01, -1.08164364e-01, -7.68121117e-02, -4.70752996e-02,\n",
              "       -3.02019676e-02, -1.52412436e-02, -5.28371965e-03,  0.00000000e+00,\n",
              "        0.00000000e+00, -4.08251693e-03, -7.76342302e-03, -1.48932548e-02,\n",
              "       -2.39627505e-02, -5.03408980e-02, -7.87674703e-02, -1.16181540e-01,\n",
              "       -1.61247562e-01, -2.11961635e-01, -2.66898731e-01, -3.25678010e-01,\n",
              "       -3.90241548e-01, -4.52076376e-01, -4.99397984e-01, -5.23428324e-01,\n",
              "       -5.17618894e-01, -4.80902419e-01, -4.23079694e-01, -3.56740395e-01,\n",
              "       -2.83683648e-01, -2.16836661e-01, -1.58524380e-01, -1.08784581e-01,\n",
              "       -7.09225309e-02, -3.89534819e-02, -1.42523852e-02, -5.77049806e-03,\n",
              "        0.00000000e+00,  0.00000000e+00, -1.19017406e-02, -2.20501560e-02,\n",
              "       -5.18380750e-02, -9.06597035e-02, -1.39667106e-01, -1.97082121e-01,\n",
              "       -2.64384728e-01, -3.40730442e-01, -4.22535749e-01, -5.15408649e-01,\n",
              "       -6.16035327e-01, -7.15983297e-01, -7.94120466e-01, -8.35049253e-01,\n",
              "       -8.24185811e-01, -7.62839284e-01, -6.66559498e-01, -5.56250398e-01,\n",
              "       -4.47645654e-01, -3.47624614e-01, -2.60840907e-01, -1.90306053e-01,\n",
              "       -1.31080130e-01, -7.48460374e-02, -3.19301291e-02, -8.20891834e-03,\n",
              "        0.00000000e+00, -5.57015293e-03, -1.56619271e-02, -3.63656606e-02,\n",
              "       -7.90243079e-02, -1.33289086e-01, -1.99154411e-01, -2.75429691e-01,\n",
              "       -3.63335946e-01, -4.63080533e-01, -5.74845189e-01, -6.98803873e-01,\n",
              "       -8.28773684e-01, -9.56892048e-01, -1.05647264e+00, -1.10471831e+00,\n",
              "       -1.08350761e+00, -9.98951646e-01, -8.74747624e-01, -7.24559735e-01,\n",
              "       -5.80605898e-01, -4.52158764e-01, -3.39323431e-01, -2.48930373e-01,\n",
              "       -1.72939702e-01, -1.04104240e-01, -4.83176220e-02, -1.47080183e-02,\n",
              "       -4.08251693e-03, -1.32310093e-02, -2.62438209e-02, -5.91585908e-02,\n",
              "       -1.13004853e-01, -1.78441525e-01, -2.58004810e-01, -3.50911812e-01,\n",
              "       -4.59098224e-01, -5.84145557e-01, -7.24954207e-01, -8.75639266e-01,\n",
              "       -9.14759136e-01,  5.43442029e-01,  1.10694142e+00,  1.06792169e+00,\n",
              "        1.08561216e+00,  9.33582362e-01,  1.66275922e-01,  3.52159373e-01,\n",
              "       -3.83722982e-01, -5.32901320e-01, -3.97547440e-01, -2.87681279e-01,\n",
              "       -1.97007025e-01, -1.21228940e-01, -5.68086109e-02, -1.53906680e-02,\n",
              "       -5.02549298e-03, -1.73205192e-02, -4.30805391e-02, -8.52488969e-02,\n",
              "       -1.39458369e-01, -2.10883308e-01, -3.00017977e-01, -4.07281526e-01,\n",
              "       -5.32888480e-01, -6.80629425e-01, -7.58061374e-01, -3.39408476e-01,\n",
              "        1.10310410e+00,  1.15478312e+00,  1.15986991e+00,  9.53593388e-01,\n",
              "        9.77476801e-01,  1.16966782e+00,  1.21866068e+00,  1.37376447e+00,\n",
              "        8.57395460e-01, -5.71005505e-01, -4.23671002e-01, -2.98196207e-01,\n",
              "       -1.97686135e-01, -1.20683815e-01, -5.39356285e-02, -1.35055434e-02,\n",
              "       -5.90571261e-03, -2.11096679e-02, -5.29890369e-02, -9.30784924e-02,\n",
              "       -1.50398734e-01, -2.26191023e-01, -3.23645340e-01, -4.42131217e-01,\n",
              "       -5.84247477e-01, -4.80330851e-01,  6.08805021e-01,  1.26873930e+00,\n",
              "        1.26836343e+00,  1.18471487e+00, -6.46684882e-02, -9.13935971e-01,\n",
              "       -8.26251009e-01,  2.81506511e-01,  1.26801922e+00,  1.38984020e+00,\n",
              "        6.97656990e-01, -5.67589421e-01, -4.20171899e-01, -2.90174595e-01,\n",
              "       -1.81482351e-01, -1.04939775e-01, -4.72131729e-02, -1.41308656e-02,\n",
              "       -5.77280519e-03, -2.26322771e-02, -5.28031747e-02, -9.22058067e-02,\n",
              "       -1.47451700e-01, -2.27284588e-01, -3.32428316e-01, -4.62696158e-01,\n",
              "       -4.94636172e-01,  1.13413575e+00,  1.37532052e+00,  1.18109942e+00,\n",
              "        5.38162877e-01, -3.74281608e-01, -7.71412102e-01, -8.03560093e-01,\n",
              "       -4.27047645e-01,  1.09869295e+00,  1.31914791e+00,  7.86092729e-01,\n",
              "       -5.45147020e-01, -5.37396564e-01, -3.96771027e-01, -2.71222642e-01,\n",
              "       -1.59324464e-01, -8.12584087e-02, -3.69508670e-02, -1.18733992e-02,\n",
              "       -7.05517396e-03, -2.07711768e-02, -4.72035624e-02, -8.20038362e-02,\n",
              "       -1.37457285e-01, -2.25181955e-01, -3.38492381e-01, -3.37525632e-01,\n",
              "        1.01063778e+00,  1.53019834e+00,  1.20900217e+00, -3.11221801e-01,\n",
              "       -7.84976096e-01, -7.32541737e-01, -7.40950559e-01, -7.45865936e-01,\n",
              "        7.56887057e-01,  1.31461291e+00,  1.32669426e+00, -2.68972854e-01,\n",
              "       -6.55987835e-01, -4.99364187e-01, -3.69573309e-01, -2.58464407e-01,\n",
              "       -1.49695715e-01, -6.11113564e-02, -2.80115688e-02, -9.12509965e-03,\n",
              "       -5.30435130e-03, -1.62383999e-02, -3.63786148e-02, -6.85820105e-02,\n",
              "       -1.27368499e-01, -2.26143360e-01, -3.52202906e-01,  6.31926915e-02,\n",
              "        1.80304999e+00,  1.48425610e+00, -1.98785608e-01, -8.41900911e-01,\n",
              "       -7.66534528e-01, -7.70204755e-01, -4.16318100e-01,  8.77724093e-01,\n",
              "        1.26511028e+00,  1.20982623e+00,  1.29958982e+00, -2.30477289e-01,\n",
              "       -6.16749363e-01, -4.70072884e-01, -3.55124414e-01, -2.55407545e-01,\n",
              "       -1.53824513e-01, -5.24542821e-02, -2.15058651e-02, -9.92198161e-03,\n",
              "       -4.08251693e-03, -1.09343854e-02, -2.55447979e-02, -5.70730810e-02,\n",
              "       -1.24662020e-01, -2.38498173e-01, -3.73258897e-01,  4.64035094e-01,\n",
              "        1.73384532e+00,  1.24535795e+00, -5.89406108e-01, -8.41014273e-01,\n",
              "       -8.16790959e-01,  1.87042123e-02,  1.05109350e+00,  1.07546356e+00,\n",
              "        8.20336794e-01,  1.11816567e+00,  8.43746700e-01, -6.60574695e-01,\n",
              "       -5.94446605e-01, -4.60910238e-01, -3.55500546e-01, -2.63549180e-01,\n",
              "       -1.64503687e-01, -5.95130325e-02, -2.33686679e-02, -7.40432376e-03,\n",
              "       -4.08251693e-03, -7.98834543e-03, -1.82964530e-02, -5.13394345e-02,\n",
              "       -1.29346397e-01, -2.57521393e-01, -3.95011330e-01,  1.29127791e+00,\n",
              "        1.70954373e+00,  1.06610308e+00,  1.75531029e-02,  3.42445263e-02,\n",
              "        9.99606852e-01,  1.06300799e+00,  9.91255828e-01, -9.82028740e-01,\n",
              "        1.81168098e-01,  1.10265487e+00,  3.42167562e-01, -7.63011316e-01,\n",
              "       -5.97027040e-01, -4.72019989e-01, -3.68370412e-01, -2.73325316e-01,\n",
              "       -1.73386634e-01, -6.89427199e-02, -2.46446573e-02, -6.98490193e-03,\n",
              "       -4.77028006e-03, -4.18942802e-03, -1.86482564e-02, -5.32721237e-02,\n",
              "       -1.40420517e-01, -2.77180624e-01, -4.12209008e-01,  9.50972051e-02,\n",
              "        1.74898439e+00,  1.53712393e+00,  1.47986581e+00,  1.45595055e+00,\n",
              "        1.34109811e+00,  6.81977472e-01, -1.00953903e+00, -1.17180953e+00,\n",
              "        5.94450482e-01,  9.72919478e-01, -5.49327637e-01, -7.52481273e-01,\n",
              "       -6.09787183e-01, -4.86753939e-01, -3.80896777e-01, -2.78298890e-01,\n",
              "       -1.75491552e-01, -7.70261425e-02, -2.96263040e-02, -9.11024024e-03,\n",
              "       -4.08251693e-03, -6.70727737e-03, -2.16014323e-02, -6.07076923e-02,\n",
              "       -1.57022412e-01, -2.97163168e-01, -4.22306798e-01, -2.61634803e-01,\n",
              "        6.42964296e-01,  1.39057744e+00,  1.58503642e+00,  1.51554057e+00,\n",
              "        3.71488763e-01, -9.28546980e-01, -1.12277551e+00, -4.08206474e-01,\n",
              "        1.16761611e+00,  8.34138975e-01, -8.78917584e-01, -7.43583544e-01,\n",
              "       -6.15621643e-01, -4.93079765e-01, -3.79874281e-01, -2.73517649e-01,\n",
              "       -1.73539121e-01, -8.40501482e-02, -3.41624422e-02, -8.93964748e-03,\n",
              "        0.00000000e+00, -8.93208845e-03, -2.53977634e-02, -7.39001757e-02,\n",
              "       -1.77860047e-01, -3.13383430e-01, -4.29013061e-01, -5.35088936e-01,\n",
              "       -6.20781988e-01, -6.82689238e-01, -7.23470137e-01, -7.65558979e-01,\n",
              "       -8.25070425e-01, -9.19390235e-01, -8.90101473e-01,  1.23077805e+00,\n",
              "        1.26738486e+00,  3.32048722e-01, -8.55465686e-01, -7.40321068e-01,\n",
              "       -6.13265794e-01, -4.85156292e-01, -3.68041978e-01, -2.60781824e-01,\n",
              "       -1.68333757e-01, -8.85426370e-02, -3.59362339e-02, -1.07108129e-02,\n",
              "       -5.90596678e-03, -6.35211414e-03, -3.33202141e-02, -9.13048630e-02,\n",
              "       -1.99108031e-01, -3.27967412e-01, -4.38995427e-01, -5.34454088e-01,\n",
              "       -6.05947897e-01, -6.59405094e-01, -6.97848366e-01, -7.30422894e-01,\n",
              "       -7.81125667e-01, -8.71688552e-01, -2.20885663e-01,  1.25997446e+00,\n",
              "        9.85984669e-01, -6.26277931e-01, -8.58724638e-01, -7.32311394e-01,\n",
              "       -5.94910595e-01, -4.63429150e-01, -3.48771144e-01, -2.45884747e-01,\n",
              "       -1.58200936e-01, -8.54379627e-02, -3.15579616e-02, -9.76041412e-03,\n",
              "       -4.08251693e-03, -1.12816627e-02, -3.97571016e-02, -1.03852335e-01,\n",
              "       -2.11980971e-01, -3.37477889e-01, -4.51701933e-01, -5.52131610e-01,\n",
              "       -6.31886475e-01, -6.93224391e-01, -7.38384900e-01, -7.70730767e-01,\n",
              "       -8.28769523e-01, -9.19272710e-01,  8.57268574e-01,  1.20844929e+00,\n",
              "       -1.80146927e-01, -9.67055213e-01, -8.46502284e-01, -7.01222754e-01,\n",
              "       -5.55385654e-01, -4.27074606e-01, -3.16810480e-01, -2.20685803e-01,\n",
              "       -1.41057264e-01, -7.81710423e-02, -2.91825785e-02, -8.02578597e-03,\n",
              "        0.00000000e+00, -1.03421049e-02, -4.32736220e-02, -1.09167014e-01,\n",
              "       -2.09032573e-01, -3.30224641e-01, -4.54875266e-01, -5.69196807e-01,\n",
              "       -6.72943600e-01, -7.60601226e-01, -8.28757495e-01, -8.86508190e-01,\n",
              "       -9.59840403e-01, -8.36339489e-01,  1.14867049e+00,  1.09197460e+00,\n",
              "       -3.61535680e-01, -9.39332903e-01, -7.87347565e-01, -6.26990956e-01,\n",
              "       -4.88062775e-01, -3.68951144e-01, -2.69292226e-01, -1.87212623e-01,\n",
              "       -1.21627434e-01, -6.64938197e-02, -2.60330031e-02, -5.77331594e-03,\n",
              "       -4.08251693e-03, -1.00095035e-02, -4.04987315e-02, -9.99847079e-02,\n",
              "       -1.88201724e-01, -2.99631312e-01, -4.27248469e-01, -5.55251360e-01,\n",
              "       -6.81777397e-01, -8.01587516e-01, -9.08656846e-01, -1.00894524e+00,\n",
              "       -1.10362289e+00, -8.49244800e-02,  1.09552493e+00,  6.68073919e-01,\n",
              "       -9.94707958e-01, -8.32232744e-01, -6.67125990e-01, -5.22694492e-01,\n",
              "       -3.99065428e-01, -2.96700643e-01, -2.12626224e-01, -1.48693958e-01,\n",
              "       -9.68957284e-02, -5.09310889e-02, -2.02144293e-02, -4.08251693e-03,\n",
              "       -4.08251693e-03, -6.00490574e-03, -3.37063471e-02, -7.89724505e-02,\n",
              "       -1.47741377e-01, -2.43250250e-01, -3.60346298e-01, -4.86443172e-01,\n",
              "       -6.22409982e-01, -7.56704176e-01, -8.88736513e-01, -1.00217059e+00,\n",
              "       -8.05020795e-01,  8.08837147e-01,  1.09955007e+00, -7.29460782e-01,\n",
              "       -8.17668173e-01, -6.64655910e-01, -5.23595080e-01, -4.02142028e-01,\n",
              "       -3.03069160e-01, -2.21680844e-01, -1.59365935e-01, -1.10060699e-01,\n",
              "       -7.00397650e-02, -3.71356228e-02, -1.22014099e-02, -4.08251693e-03,\n",
              "        0.00000000e+00,  0.00000000e+00, -2.27387266e-02, -5.19053972e-02,\n",
              "       -9.99880242e-02, -1.68431623e-01, -2.60310720e-01, -3.69837081e-01,\n",
              "       -4.90097995e-01, -6.15370679e-01, -7.38977994e-01, -8.43175905e-01,\n",
              "        9.70623656e-01,  1.38680608e+00,  1.39421451e+00, -7.34655534e-01,\n",
              "       -6.12575711e-01, -4.92071188e-01, -3.79928167e-01, -2.88817393e-01,\n",
              "       -2.13440937e-01, -1.53667782e-01, -1.09126008e-01, -7.40987562e-02,\n",
              "       -4.33171851e-02, -1.93437920e-02, -1.04024820e-02,  0.00000000e+00,\n",
              "        0.00000000e+00,  0.00000000e+00, -1.03527008e-02, -2.87501024e-02,\n",
              "       -5.75683736e-02, -9.53105368e-02, -1.53609762e-01, -2.23424526e-01,\n",
              "       -3.03577770e-01, -3.88479973e-01, -6.29757613e-02,  1.73337597e+00,\n",
              "        2.16675128e+00,  2.22008958e+00,  5.40214959e-01, -4.68057397e-01,\n",
              "       -3.95805045e-01, -3.24789446e-01, -2.55705032e-01, -1.94611712e-01,\n",
              "       -1.44574205e-01, -1.01773543e-01, -7.14252227e-02, -4.77777569e-02,\n",
              "       -2.57524359e-02, -1.13794237e-02, -4.75287492e-03,  0.00000000e+00,\n",
              "        0.00000000e+00,  0.00000000e+00, -6.66430111e-03, -1.09642132e-02,\n",
              "       -2.76044516e-02, -5.15536012e-02, -8.67718458e-02, -1.28392033e-01,\n",
              "       -1.75775898e-01, -2.23054438e-01,  1.36749913e+00,  4.14942450e+00,\n",
              "        3.97378174e+00,  2.13277218e+00, -2.89231779e-01, -2.63231291e-01,\n",
              "       -2.33723589e-01, -2.01027824e-01, -1.63691052e-01, -1.27665996e-01,\n",
              "       -9.39651393e-02, -6.56832591e-02, -4.59265310e-02, -2.87188097e-02,\n",
              "       -1.56930365e-02, -5.67530616e-03, -4.08251693e-03,  0.00000000e+00,\n",
              "        0.00000000e+00,  0.00000000e+00,  0.00000000e+00, -4.08251693e-03,\n",
              "       -1.51213939e-02, -3.13695545e-02, -5.33302349e-02, -7.92282669e-02,\n",
              "       -1.08376650e-01, -1.33979068e-01,  2.60290378e+00,  7.20363490e+00,\n",
              "        5.48477706e+00,  1.36738140e-01, -1.69876491e-01, -1.53157314e-01,\n",
              "       -1.35433124e-01, -1.16480299e-01, -9.39512541e-02, -7.25768871e-02,\n",
              "       -5.23643597e-02, -3.63829995e-02, -2.15030637e-02, -1.30192791e-02,\n",
              "       -4.49421517e-03, -4.08251693e-03,  0.00000000e+00,  0.00000000e+00,\n",
              "        0.00000000e+00,  0.00000000e+00,  0.00000000e+00,  0.00000000e+00,\n",
              "       -5.79016363e-03, -9.05384592e-03, -1.60054430e-02, -2.21197601e-02,\n",
              "       -2.68459958e-02, -3.18450632e-02, -4.37484087e-02, -4.72829474e-02,\n",
              "       -5.31388046e-02, -5.66228194e-02, -6.03383556e-02, -5.62950014e-02,\n",
              "       -5.13665378e-02, -4.26322798e-02, -3.31710271e-02, -2.24628830e-02,\n",
              "       -1.60690870e-02, -1.14322028e-02, -9.00729450e-03, -5.77039393e-03,\n",
              "        0.00000000e+00,  0.00000000e+00,  0.00000000e+00,  0.00000000e+00])"
            ]
          },
          "metadata": {},
          "execution_count": 27
        }
      ]
    },
    {
      "cell_type": "code",
      "source": [
        "import time"
      ],
      "metadata": {
        "id": "coqK34xCsS8e"
      },
      "execution_count": null,
      "outputs": []
    },
    {
      "cell_type": "code",
      "source": [
        "import pandas as pd"
      ],
      "metadata": {
        "id": "bsoXeGmUs5f2"
      },
      "execution_count": null,
      "outputs": []
    },
    {
      "cell_type": "code",
      "source": [
        "results=pd.DataFrame(columns=('klasyfikator', 'ocena', 'czas_uczenia', 'czas_testu'))"
      ],
      "metadata": {
        "id": "A-vmFc2Vs7KY"
      },
      "execution_count": null,
      "outputs": []
    },
    {
      "cell_type": "code",
      "source": [
        "def run(xtr, ytr, xtst, ytst, clf, clf_name):\n",
        "  global results\n",
        "  s=time.time() #pobiera czas\n",
        "  x=clf.fit(xtr, ytr) #tutaj trening i zapisuje w x\n",
        "  time_train=time.time()-s #mamy w sekundach info ile trwał trening\n",
        "  s=time.time()\n",
        "  score_tst=x.score(xtst, ytst) #liczy w ilu przypadkach policzył poprawnie w %\n",
        "  time_test=time.time()-s\n",
        "  print(\"ocena=%0.4f, czas_uczenia=%8.3f, czas_testu=%8.3f\"%(score_tst, time_train, time_test)) #wyświetla postępy podczas obliczeń\n",
        "  new_row=pd.DataFrame({'klasyfikator':[clf_name], 'ocena':[score_tst], 'czas_uczenia':[time_train], 'czas_testu':[time_test]})\n",
        "  results=pd.concat([results, new_row], ignore_index=True) #już się nie używa append\n"
      ],
      "metadata": {
        "id": "Q2P2e4lPtd9P"
      },
      "execution_count": null,
      "outputs": []
    },
    {
      "cell_type": "code",
      "source": [
        "from sklearn.neighbors import KNeighborsClassifier\n",
        "from sklearn.neighbors import NearestCentroid\n",
        "from sklearn.tree import DecisionTreeClassifier\n",
        "from sklearn.ensemble import RandomForestClassifier\n",
        "#from sklearn.svm import SVC - to trwa nawet 20 minut, więc pomijamy, ale można później samemu\n",
        "from sklearn.naive_bayes import GaussianNB, MultinomialNB\n",
        "from sklearn.linear_model import LogisticRegression\n",
        "from sklearn.neural_network import MLPClassifier"
      ],
      "metadata": {
        "id": "WWWjSiK_xLOG"
      },
      "execution_count": null,
      "outputs": []
    },
    {
      "cell_type": "code",
      "source": [
        "import warnings\n",
        "warnings.filterwarnings('ignore')"
      ],
      "metadata": {
        "id": "oI7fJcwUzxOn"
      },
      "execution_count": null,
      "outputs": []
    },
    {
      "cell_type": "code",
      "source": [
        "clfs=[KNeighborsClassifier(), NearestCentroid(), DecisionTreeClassifier(), RandomForestClassifier(), GaussianNB(), MultinomialNB(), LogisticRegression(), MLPClassifier()]"
      ],
      "metadata": {
        "id": "FBvK3Fuj4Ndh"
      },
      "execution_count": null,
      "outputs": []
    },
    {
      "cell_type": "code",
      "source": [
        "t_begin=time.time()\n",
        "for i in clfs:\n",
        "  print(i)\n",
        "  run(trainX, trainY, testX, testY, i, i)\n",
        "  run(trainX_01, trainY, testX_01, testY, i, str(i)+'_01')\n",
        "  if str(i)[:13] != 'MultinomialNB':\n",
        "    run(trainX_std, trainY, testX_std, testY, i, str(i)+'_std')\n",
        "print(time.time()-t_begin)"
      ],
      "metadata": {
        "colab": {
          "base_uri": "https://localhost:8080/"
        },
        "id": "fVXpJ9ZS4huN",
        "outputId": "ee3fb4c0-4f39-4b87-f96b-fac847b132c8"
      },
      "execution_count": null,
      "outputs": [
        {
          "output_type": "stream",
          "name": "stdout",
          "text": [
            "KNeighborsClassifier()\n",
            "ocena=0.9688, czas_uczenia=   0.009, czas_testu=  24.110\n",
            "ocena=0.9688, czas_uczenia=   0.035, czas_testu=  22.930\n",
            "ocena=0.9443, czas_uczenia=   0.035, czas_testu=  22.760\n",
            "NearestCentroid()\n",
            "ocena=0.8203, czas_uczenia=   0.379, czas_testu=   0.040\n",
            "ocena=0.8203, czas_uczenia=   0.563, czas_testu=   0.032\n",
            "ocena=0.8093, czas_uczenia=   0.572, czas_testu=   0.033\n",
            "DecisionTreeClassifier()\n",
            "ocena=0.8757, czas_uczenia=  18.172, czas_testu=   0.015\n",
            "ocena=0.8816, czas_uczenia=  18.786, czas_testu=   0.019\n",
            "ocena=0.8775, czas_uczenia=  18.186, czas_testu=   0.020\n",
            "RandomForestClassifier()\n",
            "ocena=0.9694, czas_uczenia=  41.332, czas_testu=   0.267\n",
            "ocena=0.9695, czas_uczenia=  40.567, czas_testu=   0.271\n",
            "ocena=0.9691, czas_uczenia=  40.999, czas_testu=   0.280\n",
            "GaussianNB()\n",
            "ocena=0.5558, czas_uczenia=   0.483, czas_testu=   0.501\n",
            "ocena=0.5558, czas_uczenia=   0.624, czas_testu=   0.515\n",
            "ocena=0.5240, czas_uczenia=   0.622, czas_testu=   0.523\n",
            "MultinomialNB()\n",
            "ocena=0.8365, czas_uczenia=   3.377, czas_testu=   0.043\n",
            "ocena=0.8357, czas_uczenia=   0.163, czas_testu=   0.023\n",
            "LogisticRegression()\n",
            "ocena=0.9255, czas_uczenia=  25.280, czas_testu=   0.033\n",
            "ocena=0.9258, czas_uczenia=  24.617, czas_testu=   0.022\n",
            "ocena=0.9246, czas_uczenia=  29.267, czas_testu=   0.023\n",
            "MLPClassifier()\n",
            "ocena=0.9650, czas_uczenia=  98.917, czas_testu=   0.065\n",
            "ocena=0.9791, czas_uczenia=  74.708, czas_testu=   0.050\n",
            "ocena=0.9757, czas_uczenia=  47.619, czas_testu=   0.052\n",
            "557.9664630889893\n"
          ]
        }
      ]
    },
    {
      "cell_type": "code",
      "source": [
        "results.sort_values(['ocena'], ascending=False)"
      ],
      "metadata": {
        "colab": {
          "base_uri": "https://localhost:8080/",
          "height": 770
        },
        "id": "eq6-QRHi6pVP",
        "outputId": "a9860521-0ed3-4b5e-c8a2-dfcedec8a493"
      },
      "execution_count": null,
      "outputs": [
        {
          "output_type": "execute_result",
          "data": {
            "text/plain": [
              "                                         klasyfikator   ocena  czas_uczenia  \\\n",
              "21                                 MLPClassifier()_01  0.9791     74.707894   \n",
              "22                                MLPClassifier()_std  0.9757     47.619325   \n",
              "10                        RandomForestClassifier()_01  0.9695     40.566978   \n",
              "9   (DecisionTreeClassifier(max_features='sqrt', r...  0.9694     41.332346   \n",
              "11                       RandomForestClassifier()_std  0.9691     40.999100   \n",
              "1                           KNeighborsClassifier()_01  0.9688      0.035234   \n",
              "0                              KNeighborsClassifier()  0.9688      0.008775   \n",
              "20                                    MLPClassifier()  0.9650     98.916580   \n",
              "2                          KNeighborsClassifier()_std  0.9443      0.035452   \n",
              "18                            LogisticRegression()_01  0.9258     24.617171   \n",
              "17                               LogisticRegression()  0.9255     25.280080   \n",
              "19                           LogisticRegression()_std  0.9246     29.266961   \n",
              "7                         DecisionTreeClassifier()_01  0.8816     18.786222   \n",
              "8                        DecisionTreeClassifier()_std  0.8775     18.185503   \n",
              "6                            DecisionTreeClassifier()  0.8757     18.172492   \n",
              "15                                    MultinomialNB()  0.8365      3.377331   \n",
              "16                                 MultinomialNB()_01  0.8357      0.162952   \n",
              "3                                   NearestCentroid()  0.8203      0.379155   \n",
              "4                                NearestCentroid()_01  0.8203      0.563100   \n",
              "5                               NearestCentroid()_std  0.8093      0.571721   \n",
              "12                                       GaussianNB()  0.5558      0.483323   \n",
              "13                                    GaussianNB()_01  0.5558      0.624165   \n",
              "14                                   GaussianNB()_std  0.5240      0.622056   \n",
              "\n",
              "    czas_testu  \n",
              "21    0.049771  \n",
              "22    0.052092  \n",
              "10    0.271332  \n",
              "9     0.266962  \n",
              "11    0.279579  \n",
              "1    22.930206  \n",
              "0    24.109818  \n",
              "20    0.064883  \n",
              "2    22.759809  \n",
              "18    0.022248  \n",
              "17    0.032652  \n",
              "19    0.022604  \n",
              "7     0.018788  \n",
              "8     0.019679  \n",
              "6     0.015394  \n",
              "15    0.043043  \n",
              "16    0.022565  \n",
              "3     0.040279  \n",
              "4     0.032176  \n",
              "5     0.032777  \n",
              "12    0.500957  \n",
              "13    0.514624  \n",
              "14    0.522663  "
            ],
            "text/html": [
              "\n",
              "  <div id=\"df-aa8f4d66-39be-4ae7-8317-c6bcbe536e88\" class=\"colab-df-container\">\n",
              "    <div>\n",
              "<style scoped>\n",
              "    .dataframe tbody tr th:only-of-type {\n",
              "        vertical-align: middle;\n",
              "    }\n",
              "\n",
              "    .dataframe tbody tr th {\n",
              "        vertical-align: top;\n",
              "    }\n",
              "\n",
              "    .dataframe thead th {\n",
              "        text-align: right;\n",
              "    }\n",
              "</style>\n",
              "<table border=\"1\" class=\"dataframe\">\n",
              "  <thead>\n",
              "    <tr style=\"text-align: right;\">\n",
              "      <th></th>\n",
              "      <th>klasyfikator</th>\n",
              "      <th>ocena</th>\n",
              "      <th>czas_uczenia</th>\n",
              "      <th>czas_testu</th>\n",
              "    </tr>\n",
              "  </thead>\n",
              "  <tbody>\n",
              "    <tr>\n",
              "      <th>21</th>\n",
              "      <td>MLPClassifier()_01</td>\n",
              "      <td>0.9791</td>\n",
              "      <td>74.707894</td>\n",
              "      <td>0.049771</td>\n",
              "    </tr>\n",
              "    <tr>\n",
              "      <th>22</th>\n",
              "      <td>MLPClassifier()_std</td>\n",
              "      <td>0.9757</td>\n",
              "      <td>47.619325</td>\n",
              "      <td>0.052092</td>\n",
              "    </tr>\n",
              "    <tr>\n",
              "      <th>10</th>\n",
              "      <td>RandomForestClassifier()_01</td>\n",
              "      <td>0.9695</td>\n",
              "      <td>40.566978</td>\n",
              "      <td>0.271332</td>\n",
              "    </tr>\n",
              "    <tr>\n",
              "      <th>9</th>\n",
              "      <td>(DecisionTreeClassifier(max_features='sqrt', r...</td>\n",
              "      <td>0.9694</td>\n",
              "      <td>41.332346</td>\n",
              "      <td>0.266962</td>\n",
              "    </tr>\n",
              "    <tr>\n",
              "      <th>11</th>\n",
              "      <td>RandomForestClassifier()_std</td>\n",
              "      <td>0.9691</td>\n",
              "      <td>40.999100</td>\n",
              "      <td>0.279579</td>\n",
              "    </tr>\n",
              "    <tr>\n",
              "      <th>1</th>\n",
              "      <td>KNeighborsClassifier()_01</td>\n",
              "      <td>0.9688</td>\n",
              "      <td>0.035234</td>\n",
              "      <td>22.930206</td>\n",
              "    </tr>\n",
              "    <tr>\n",
              "      <th>0</th>\n",
              "      <td>KNeighborsClassifier()</td>\n",
              "      <td>0.9688</td>\n",
              "      <td>0.008775</td>\n",
              "      <td>24.109818</td>\n",
              "    </tr>\n",
              "    <tr>\n",
              "      <th>20</th>\n",
              "      <td>MLPClassifier()</td>\n",
              "      <td>0.9650</td>\n",
              "      <td>98.916580</td>\n",
              "      <td>0.064883</td>\n",
              "    </tr>\n",
              "    <tr>\n",
              "      <th>2</th>\n",
              "      <td>KNeighborsClassifier()_std</td>\n",
              "      <td>0.9443</td>\n",
              "      <td>0.035452</td>\n",
              "      <td>22.759809</td>\n",
              "    </tr>\n",
              "    <tr>\n",
              "      <th>18</th>\n",
              "      <td>LogisticRegression()_01</td>\n",
              "      <td>0.9258</td>\n",
              "      <td>24.617171</td>\n",
              "      <td>0.022248</td>\n",
              "    </tr>\n",
              "    <tr>\n",
              "      <th>17</th>\n",
              "      <td>LogisticRegression()</td>\n",
              "      <td>0.9255</td>\n",
              "      <td>25.280080</td>\n",
              "      <td>0.032652</td>\n",
              "    </tr>\n",
              "    <tr>\n",
              "      <th>19</th>\n",
              "      <td>LogisticRegression()_std</td>\n",
              "      <td>0.9246</td>\n",
              "      <td>29.266961</td>\n",
              "      <td>0.022604</td>\n",
              "    </tr>\n",
              "    <tr>\n",
              "      <th>7</th>\n",
              "      <td>DecisionTreeClassifier()_01</td>\n",
              "      <td>0.8816</td>\n",
              "      <td>18.786222</td>\n",
              "      <td>0.018788</td>\n",
              "    </tr>\n",
              "    <tr>\n",
              "      <th>8</th>\n",
              "      <td>DecisionTreeClassifier()_std</td>\n",
              "      <td>0.8775</td>\n",
              "      <td>18.185503</td>\n",
              "      <td>0.019679</td>\n",
              "    </tr>\n",
              "    <tr>\n",
              "      <th>6</th>\n",
              "      <td>DecisionTreeClassifier()</td>\n",
              "      <td>0.8757</td>\n",
              "      <td>18.172492</td>\n",
              "      <td>0.015394</td>\n",
              "    </tr>\n",
              "    <tr>\n",
              "      <th>15</th>\n",
              "      <td>MultinomialNB()</td>\n",
              "      <td>0.8365</td>\n",
              "      <td>3.377331</td>\n",
              "      <td>0.043043</td>\n",
              "    </tr>\n",
              "    <tr>\n",
              "      <th>16</th>\n",
              "      <td>MultinomialNB()_01</td>\n",
              "      <td>0.8357</td>\n",
              "      <td>0.162952</td>\n",
              "      <td>0.022565</td>\n",
              "    </tr>\n",
              "    <tr>\n",
              "      <th>3</th>\n",
              "      <td>NearestCentroid()</td>\n",
              "      <td>0.8203</td>\n",
              "      <td>0.379155</td>\n",
              "      <td>0.040279</td>\n",
              "    </tr>\n",
              "    <tr>\n",
              "      <th>4</th>\n",
              "      <td>NearestCentroid()_01</td>\n",
              "      <td>0.8203</td>\n",
              "      <td>0.563100</td>\n",
              "      <td>0.032176</td>\n",
              "    </tr>\n",
              "    <tr>\n",
              "      <th>5</th>\n",
              "      <td>NearestCentroid()_std</td>\n",
              "      <td>0.8093</td>\n",
              "      <td>0.571721</td>\n",
              "      <td>0.032777</td>\n",
              "    </tr>\n",
              "    <tr>\n",
              "      <th>12</th>\n",
              "      <td>GaussianNB()</td>\n",
              "      <td>0.5558</td>\n",
              "      <td>0.483323</td>\n",
              "      <td>0.500957</td>\n",
              "    </tr>\n",
              "    <tr>\n",
              "      <th>13</th>\n",
              "      <td>GaussianNB()_01</td>\n",
              "      <td>0.5558</td>\n",
              "      <td>0.624165</td>\n",
              "      <td>0.514624</td>\n",
              "    </tr>\n",
              "    <tr>\n",
              "      <th>14</th>\n",
              "      <td>GaussianNB()_std</td>\n",
              "      <td>0.5240</td>\n",
              "      <td>0.622056</td>\n",
              "      <td>0.522663</td>\n",
              "    </tr>\n",
              "  </tbody>\n",
              "</table>\n",
              "</div>\n",
              "    <div class=\"colab-df-buttons\">\n",
              "\n",
              "  <div class=\"colab-df-container\">\n",
              "    <button class=\"colab-df-convert\" onclick=\"convertToInteractive('df-aa8f4d66-39be-4ae7-8317-c6bcbe536e88')\"\n",
              "            title=\"Convert this dataframe to an interactive table.\"\n",
              "            style=\"display:none;\">\n",
              "\n",
              "  <svg xmlns=\"http://www.w3.org/2000/svg\" height=\"24px\" viewBox=\"0 -960 960 960\">\n",
              "    <path d=\"M120-120v-720h720v720H120Zm60-500h600v-160H180v160Zm220 220h160v-160H400v160Zm0 220h160v-160H400v160ZM180-400h160v-160H180v160Zm440 0h160v-160H620v160ZM180-180h160v-160H180v160Zm440 0h160v-160H620v160Z\"/>\n",
              "  </svg>\n",
              "    </button>\n",
              "\n",
              "  <style>\n",
              "    .colab-df-container {\n",
              "      display:flex;\n",
              "      gap: 12px;\n",
              "    }\n",
              "\n",
              "    .colab-df-convert {\n",
              "      background-color: #E8F0FE;\n",
              "      border: none;\n",
              "      border-radius: 50%;\n",
              "      cursor: pointer;\n",
              "      display: none;\n",
              "      fill: #1967D2;\n",
              "      height: 32px;\n",
              "      padding: 0 0 0 0;\n",
              "      width: 32px;\n",
              "    }\n",
              "\n",
              "    .colab-df-convert:hover {\n",
              "      background-color: #E2EBFA;\n",
              "      box-shadow: 0px 1px 2px rgba(60, 64, 67, 0.3), 0px 1px 3px 1px rgba(60, 64, 67, 0.15);\n",
              "      fill: #174EA6;\n",
              "    }\n",
              "\n",
              "    .colab-df-buttons div {\n",
              "      margin-bottom: 4px;\n",
              "    }\n",
              "\n",
              "    [theme=dark] .colab-df-convert {\n",
              "      background-color: #3B4455;\n",
              "      fill: #D2E3FC;\n",
              "    }\n",
              "\n",
              "    [theme=dark] .colab-df-convert:hover {\n",
              "      background-color: #434B5C;\n",
              "      box-shadow: 0px 1px 3px 1px rgba(0, 0, 0, 0.15);\n",
              "      filter: drop-shadow(0px 1px 2px rgba(0, 0, 0, 0.3));\n",
              "      fill: #FFFFFF;\n",
              "    }\n",
              "  </style>\n",
              "\n",
              "    <script>\n",
              "      const buttonEl =\n",
              "        document.querySelector('#df-aa8f4d66-39be-4ae7-8317-c6bcbe536e88 button.colab-df-convert');\n",
              "      buttonEl.style.display =\n",
              "        google.colab.kernel.accessAllowed ? 'block' : 'none';\n",
              "\n",
              "      async function convertToInteractive(key) {\n",
              "        const element = document.querySelector('#df-aa8f4d66-39be-4ae7-8317-c6bcbe536e88');\n",
              "        const dataTable =\n",
              "          await google.colab.kernel.invokeFunction('convertToInteractive',\n",
              "                                                    [key], {});\n",
              "        if (!dataTable) return;\n",
              "\n",
              "        const docLinkHtml = 'Like what you see? Visit the ' +\n",
              "          '<a target=\"_blank\" href=https://colab.research.google.com/notebooks/data_table.ipynb>data table notebook</a>'\n",
              "          + ' to learn more about interactive tables.';\n",
              "        element.innerHTML = '';\n",
              "        dataTable['output_type'] = 'display_data';\n",
              "        await google.colab.output.renderOutput(dataTable, element);\n",
              "        const docLink = document.createElement('div');\n",
              "        docLink.innerHTML = docLinkHtml;\n",
              "        element.appendChild(docLink);\n",
              "      }\n",
              "    </script>\n",
              "  </div>\n",
              "\n",
              "\n",
              "<div id=\"df-6470310e-6e8e-464e-bafc-4a9d212769c9\">\n",
              "  <button class=\"colab-df-quickchart\" onclick=\"quickchart('df-6470310e-6e8e-464e-bafc-4a9d212769c9')\"\n",
              "            title=\"Suggest charts\"\n",
              "            style=\"display:none;\">\n",
              "\n",
              "<svg xmlns=\"http://www.w3.org/2000/svg\" height=\"24px\"viewBox=\"0 0 24 24\"\n",
              "     width=\"24px\">\n",
              "    <g>\n",
              "        <path d=\"M19 3H5c-1.1 0-2 .9-2 2v14c0 1.1.9 2 2 2h14c1.1 0 2-.9 2-2V5c0-1.1-.9-2-2-2zM9 17H7v-7h2v7zm4 0h-2V7h2v10zm4 0h-2v-4h2v4z\"/>\n",
              "    </g>\n",
              "</svg>\n",
              "  </button>\n",
              "\n",
              "<style>\n",
              "  .colab-df-quickchart {\n",
              "      --bg-color: #E8F0FE;\n",
              "      --fill-color: #1967D2;\n",
              "      --hover-bg-color: #E2EBFA;\n",
              "      --hover-fill-color: #174EA6;\n",
              "      --disabled-fill-color: #AAA;\n",
              "      --disabled-bg-color: #DDD;\n",
              "  }\n",
              "\n",
              "  [theme=dark] .colab-df-quickchart {\n",
              "      --bg-color: #3B4455;\n",
              "      --fill-color: #D2E3FC;\n",
              "      --hover-bg-color: #434B5C;\n",
              "      --hover-fill-color: #FFFFFF;\n",
              "      --disabled-bg-color: #3B4455;\n",
              "      --disabled-fill-color: #666;\n",
              "  }\n",
              "\n",
              "  .colab-df-quickchart {\n",
              "    background-color: var(--bg-color);\n",
              "    border: none;\n",
              "    border-radius: 50%;\n",
              "    cursor: pointer;\n",
              "    display: none;\n",
              "    fill: var(--fill-color);\n",
              "    height: 32px;\n",
              "    padding: 0;\n",
              "    width: 32px;\n",
              "  }\n",
              "\n",
              "  .colab-df-quickchart:hover {\n",
              "    background-color: var(--hover-bg-color);\n",
              "    box-shadow: 0 1px 2px rgba(60, 64, 67, 0.3), 0 1px 3px 1px rgba(60, 64, 67, 0.15);\n",
              "    fill: var(--button-hover-fill-color);\n",
              "  }\n",
              "\n",
              "  .colab-df-quickchart-complete:disabled,\n",
              "  .colab-df-quickchart-complete:disabled:hover {\n",
              "    background-color: var(--disabled-bg-color);\n",
              "    fill: var(--disabled-fill-color);\n",
              "    box-shadow: none;\n",
              "  }\n",
              "\n",
              "  .colab-df-spinner {\n",
              "    border: 2px solid var(--fill-color);\n",
              "    border-color: transparent;\n",
              "    border-bottom-color: var(--fill-color);\n",
              "    animation:\n",
              "      spin 1s steps(1) infinite;\n",
              "  }\n",
              "\n",
              "  @keyframes spin {\n",
              "    0% {\n",
              "      border-color: transparent;\n",
              "      border-bottom-color: var(--fill-color);\n",
              "      border-left-color: var(--fill-color);\n",
              "    }\n",
              "    20% {\n",
              "      border-color: transparent;\n",
              "      border-left-color: var(--fill-color);\n",
              "      border-top-color: var(--fill-color);\n",
              "    }\n",
              "    30% {\n",
              "      border-color: transparent;\n",
              "      border-left-color: var(--fill-color);\n",
              "      border-top-color: var(--fill-color);\n",
              "      border-right-color: var(--fill-color);\n",
              "    }\n",
              "    40% {\n",
              "      border-color: transparent;\n",
              "      border-right-color: var(--fill-color);\n",
              "      border-top-color: var(--fill-color);\n",
              "    }\n",
              "    60% {\n",
              "      border-color: transparent;\n",
              "      border-right-color: var(--fill-color);\n",
              "    }\n",
              "    80% {\n",
              "      border-color: transparent;\n",
              "      border-right-color: var(--fill-color);\n",
              "      border-bottom-color: var(--fill-color);\n",
              "    }\n",
              "    90% {\n",
              "      border-color: transparent;\n",
              "      border-bottom-color: var(--fill-color);\n",
              "    }\n",
              "  }\n",
              "</style>\n",
              "\n",
              "  <script>\n",
              "    async function quickchart(key) {\n",
              "      const quickchartButtonEl =\n",
              "        document.querySelector('#' + key + ' button');\n",
              "      quickchartButtonEl.disabled = true;  // To prevent multiple clicks.\n",
              "      quickchartButtonEl.classList.add('colab-df-spinner');\n",
              "      try {\n",
              "        const charts = await google.colab.kernel.invokeFunction(\n",
              "            'suggestCharts', [key], {});\n",
              "      } catch (error) {\n",
              "        console.error('Error during call to suggestCharts:', error);\n",
              "      }\n",
              "      quickchartButtonEl.classList.remove('colab-df-spinner');\n",
              "      quickchartButtonEl.classList.add('colab-df-quickchart-complete');\n",
              "    }\n",
              "    (() => {\n",
              "      let quickchartButtonEl =\n",
              "        document.querySelector('#df-6470310e-6e8e-464e-bafc-4a9d212769c9 button');\n",
              "      quickchartButtonEl.style.display =\n",
              "        google.colab.kernel.accessAllowed ? 'block' : 'none';\n",
              "    })();\n",
              "  </script>\n",
              "</div>\n",
              "\n",
              "    </div>\n",
              "  </div>\n"
            ],
            "application/vnd.google.colaboratory.intrinsic+json": {
              "type": "dataframe",
              "summary": "{\n  \"name\": \"results\",\n  \"rows\": 23,\n  \"fields\": [\n    {\n      \"column\": \"klasyfikator\",\n      \"properties\": {\n        \"dtype\": \"string\",\n        \"num_unique_values\": 23,\n        \"samples\": [\n          \"MultinomialNB()\",\n          \"LogisticRegression()_01\",\n          \"MLPClassifier()_01\"\n        ],\n        \"semantic_type\": \"\",\n        \"description\": \"\"\n      }\n    },\n    {\n      \"column\": \"ocena\",\n      \"properties\": {\n        \"dtype\": \"number\",\n        \"std\": 0.13873940781419103,\n        \"min\": 0.524,\n        \"max\": 0.9791,\n        \"num_unique_values\": 20,\n        \"samples\": [\n          0.9791,\n          0.8093,\n          0.8357\n        ],\n        \"semantic_type\": \"\",\n        \"description\": \"\"\n      }\n    },\n    {\n      \"column\": \"czas_uczenia\",\n      \"properties\": {\n        \"dtype\": \"number\",\n        \"std\": 26.59174590211806,\n        \"min\": 0.008774757385253906,\n        \"max\": 98.91658043861389,\n        \"num_unique_values\": 23,\n        \"samples\": [\n          3.377330780029297,\n          24.617170572280884,\n          74.70789384841919\n        ],\n        \"semantic_type\": \"\",\n        \"description\": \"\"\n      }\n    },\n    {\n      \"column\": \"czas_testu\",\n      \"properties\": {\n        \"dtype\": \"number\",\n        \"std\": 7.968108164087084,\n        \"min\": 0.015394210815429688,\n        \"max\": 24.109817504882812,\n        \"num_unique_values\": 23,\n        \"samples\": [\n          0.04304337501525879,\n          0.022247791290283203,\n          0.04977107048034668\n        ],\n        \"semantic_type\": \"\",\n        \"description\": \"\"\n      }\n    }\n  ]\n}"
            }
          },
          "metadata": {},
          "execution_count": 36
        }
      ]
    },
    {
      "cell_type": "code",
      "source": [
        "import numpy as np"
      ],
      "metadata": {
        "id": "YUJndMxQ-RXs"
      },
      "execution_count": null,
      "outputs": []
    },
    {
      "cell_type": "code",
      "source": [
        "x=np.append(trainX_01, testX_01, axis=0)\n",
        "y=np.append(trainY, testY, axis=0)"
      ],
      "metadata": {
        "colab": {
          "base_uri": "https://localhost:8080/"
        },
        "id": "fEM5EfF4A540",
        "outputId": "84f6721e-b98a-4d1a-a967-66b83dbd7389"
      },
      "execution_count": null,
      "outputs": [
        {
          "output_type": "error",
          "ename": "NameError",
          "evalue": "name 'np' is not defined",
          "traceback": [
            "\u001b[0;31m---------------------------------------------------------------------------\u001b[0m",
            "\u001b[0;31mNameError\u001b[0m                                 Traceback (most recent call last)",
            "\u001b[0;32m<ipython-input-37-ac9acbf6d079>\u001b[0m in \u001b[0;36m<cell line: 0>\u001b[0;34m()\u001b[0m\n\u001b[0;32m----> 1\u001b[0;31m \u001b[0mx\u001b[0m\u001b[0;34m=\u001b[0m\u001b[0mnp\u001b[0m\u001b[0;34m.\u001b[0m\u001b[0mappend\u001b[0m\u001b[0;34m(\u001b[0m\u001b[0mtrainX_01\u001b[0m\u001b[0;34m,\u001b[0m \u001b[0mtestX_01\u001b[0m\u001b[0;34m,\u001b[0m \u001b[0maxis\u001b[0m\u001b[0;34m=\u001b[0m\u001b[0;36m0\u001b[0m\u001b[0;34m)\u001b[0m\u001b[0;34m\u001b[0m\u001b[0;34m\u001b[0m\u001b[0m\n\u001b[0m\u001b[1;32m      2\u001b[0m \u001b[0my\u001b[0m\u001b[0;34m=\u001b[0m\u001b[0mnp\u001b[0m\u001b[0;34m.\u001b[0m\u001b[0mappend\u001b[0m\u001b[0;34m(\u001b[0m\u001b[0mtrainY\u001b[0m\u001b[0;34m,\u001b[0m \u001b[0mtestY\u001b[0m\u001b[0;34m,\u001b[0m \u001b[0maxis\u001b[0m\u001b[0;34m=\u001b[0m\u001b[0;36m0\u001b[0m\u001b[0;34m)\u001b[0m\u001b[0;34m\u001b[0m\u001b[0;34m\u001b[0m\u001b[0m\n",
            "\u001b[0;31mNameError\u001b[0m: name 'np' is not defined"
          ]
        }
      ]
    },
    {
      "cell_type": "code",
      "source": [
        "x.shape"
      ],
      "metadata": {
        "id": "4Jha3G0-BO1d"
      },
      "execution_count": null,
      "outputs": []
    },
    {
      "cell_type": "code",
      "source": [
        "y.shape"
      ],
      "metadata": {
        "id": "MD9eTxHEBWh0"
      },
      "execution_count": null,
      "outputs": []
    },
    {
      "cell_type": "code",
      "source": [
        "m=MLPClassifier()"
      ],
      "metadata": {
        "id": "GfBRQlTwBZGN"
      },
      "execution_count": null,
      "outputs": []
    },
    {
      "cell_type": "code",
      "source": [
        "model=m.fit(x,y)"
      ],
      "metadata": {
        "id": "O8eDDkQtBeEu"
      },
      "execution_count": null,
      "outputs": []
    },
    {
      "cell_type": "code",
      "source": [
        "from PIL import Image"
      ],
      "metadata": {
        "id": "HOLqiZTEBp96"
      },
      "execution_count": null,
      "outputs": []
    },
    {
      "cell_type": "code",
      "source": [
        "img=Image.open('5.jpg').convert('L')"
      ],
      "metadata": {
        "collapsed": true,
        "id": "AF0YtVy_B2Cz"
      },
      "execution_count": null,
      "outputs": []
    },
    {
      "cell_type": "code",
      "source": [
        "plt.imshow(img, cmap='gray')"
      ],
      "metadata": {
        "id": "f9XX20U2CRwL"
      },
      "execution_count": null,
      "outputs": []
    },
    {
      "cell_type": "code",
      "source": [
        "im2arr=np.array(img)"
      ],
      "metadata": {
        "id": "0bRfsjc1Cbl-"
      },
      "execution_count": null,
      "outputs": []
    },
    {
      "cell_type": "code",
      "source": [
        "im2arr.shape"
      ],
      "metadata": {
        "id": "DfRQB66fDKnZ"
      },
      "execution_count": null,
      "outputs": []
    },
    {
      "cell_type": "code",
      "source": [
        "im2arr=im2arr.reshape(1,28*28)"
      ],
      "metadata": {
        "id": "quhutvrqDM01"
      },
      "execution_count": null,
      "outputs": []
    },
    {
      "cell_type": "code",
      "source": [
        "im2arr.shape"
      ],
      "metadata": {
        "colab": {
          "base_uri": "https://localhost:8080/"
        },
        "id": "XPFkIxxmDRdv",
        "outputId": "5687837e-ba6c-44e8-9640-565754d4727a"
      },
      "execution_count": null,
      "outputs": [
        {
          "output_type": "execute_result",
          "data": {
            "text/plain": [
              "(1, 784)"
            ]
          },
          "metadata": {},
          "execution_count": 95
        }
      ]
    },
    {
      "cell_type": "code",
      "source": [
        "im2arr"
      ],
      "metadata": {
        "id": "a_JUGg7ODiDK"
      },
      "execution_count": null,
      "outputs": []
    },
    {
      "cell_type": "code",
      "source": [
        "im2arr=im2arr.astype('float32')/255"
      ],
      "metadata": {
        "id": "dLOeitF8Djnj"
      },
      "execution_count": null,
      "outputs": []
    },
    {
      "cell_type": "code",
      "source": [
        "im2arr"
      ],
      "metadata": {
        "id": "ouV2btBgD7Kc"
      },
      "execution_count": null,
      "outputs": []
    },
    {
      "cell_type": "code",
      "source": [
        "pred=model.predict(im2arr)"
      ],
      "metadata": {
        "id": "TL7V4AnWD8kj"
      },
      "execution_count": null,
      "outputs": []
    },
    {
      "cell_type": "code",
      "source": [
        "print(pred[0])"
      ],
      "metadata": {
        "id": "_iMJVEgQECuT"
      },
      "execution_count": null,
      "outputs": []
    },
    {
      "cell_type": "code",
      "source": [
        "#koniec zadania"
      ],
      "metadata": {
        "id": "rn9LlOwDEFIe"
      },
      "execution_count": null,
      "outputs": []
    }
  ]
}